{
 "cells": [
  {
   "cell_type": "markdown",
   "metadata": {
    "id": "0gikn2UAAKKj"
   },
   "source": [
    "## Nama : Antonius Fhilifi\n",
    "## Kelas : 2IA09\n",
    "## NPM : 50420202\n",
    "## Mata Kuliah : Praktikum Komputasi Big Data"
   ]
  },
  {
   "cell_type": "markdown",
   "metadata": {
    "id": "KgPuNX-fL5ix"
   },
   "source": [
    "### Overview Dataset\n",
    "\n",
    "\"Data Komponen Beton\".\n",
    "\n",
    "Data set ini berisikan beberapa kategori sebagai berikut\n",
    "* cement (kg)\n",
    "* slag (blast furnace slag, kg)\n",
    "* ash (fly ash, kg)\n",
    "* water (kg)\n",
    "* superplastic (superplasticizer, kg)\n",
    "* coarseagg (coarse aggregate, kg)\n",
    "* fineagg (fine aggregate, kg)\n",
    "* age (days, 1-365)\n",
    "* strength (Concrete compressive strength, MPa)"
   ]
  },
  {
   "cell_type": "markdown",
   "metadata": {
    "id": "xmpxBgI6L5i1"
   },
   "source": [
    "# Exploratory Data Analysis (EDA)\n"
   ]
  },
  {
   "cell_type": "markdown",
   "metadata": {
    "id": "Llrx7ra9L5i3"
   },
   "source": [
    "# Instruksi Tugas Praktikum FIKTI dan FTI\n",
    "\n",
    "1. Buat univariate dan bivariate analysis untuk data set di atas\n",
    "2. Jelaskan kesimpulan yang bisa di ambil dari analysis yg anda lakukan\n"
   ]
  },
  {
   "cell_type": "markdown",
   "metadata": {
    "id": "o0Pqlzl5L5i4"
   },
   "source": [
    "<a id=\"1\"></a>\n",
    "\n",
    "# 1. Pengambilan Data:"
   ]
  },
  {
   "cell_type": "markdown",
   "metadata": {
    "id": "rdfz_8a0L5i5"
   },
   "source": [
    "## 1.1 Import packages"
   ]
  },
  {
   "cell_type": "code",
   "execution_count": 1,
   "metadata": {
    "id": "Gwn-MJ5sL5i6"
   },
   "outputs": [],
   "source": [
    "import numpy as np \n",
    "import pandas as pd \n",
    "import seaborn as sns\n",
    "import matplotlib.pyplot as plt\n",
    "%matplotlib inline\n",
    "import warnings\n",
    "warnings.filterwarnings(\"ignore\")\n",
    "from scipy.stats import ttest_ind, ttest_rel\n",
    "from scipy import stats"
   ]
  },
  {
   "cell_type": "markdown",
   "metadata": {
    "id": "-TqQeXupL5i8"
   },
   "source": [
    "## 1.2 Import data"
   ]
  },
  {
   "cell_type": "code",
   "execution_count": 2,
   "metadata": {
    "colab": {
     "base_uri": "https://localhost:8080/",
     "height": 363
    },
    "id": "fHPCi8OyL5i8",
    "outputId": "69f26d4f-2d17-4e05-8157-bde79018e70c"
   },
   "outputs": [
    {
     "data": {
      "text/html": [
       "\n",
       "  <div id=\"df-a004e26e-aacf-48c8-bc03-ccb03d516822\">\n",
       "    <div class=\"colab-df-container\">\n",
       "      <div>\n",
       "<style scoped>\n",
       "    .dataframe tbody tr th:only-of-type {\n",
       "        vertical-align: middle;\n",
       "    }\n",
       "\n",
       "    .dataframe tbody tr th {\n",
       "        vertical-align: top;\n",
       "    }\n",
       "\n",
       "    .dataframe thead th {\n",
       "        text-align: right;\n",
       "    }\n",
       "</style>\n",
       "<table border=\"1\" class=\"dataframe\">\n",
       "  <thead>\n",
       "    <tr style=\"text-align: right;\">\n",
       "      <th></th>\n",
       "      <th>cement</th>\n",
       "      <th>slag</th>\n",
       "      <th>ash</th>\n",
       "      <th>water</th>\n",
       "      <th>superplastic</th>\n",
       "      <th>coarseagg</th>\n",
       "      <th>fineagg</th>\n",
       "      <th>age</th>\n",
       "      <th>strength</th>\n",
       "    </tr>\n",
       "  </thead>\n",
       "  <tbody>\n",
       "    <tr>\n",
       "      <th>0</th>\n",
       "      <td>141.3</td>\n",
       "      <td>212.0</td>\n",
       "      <td>0.0</td>\n",
       "      <td>203.5</td>\n",
       "      <td>0.0</td>\n",
       "      <td>971.8</td>\n",
       "      <td>748.5</td>\n",
       "      <td>28</td>\n",
       "      <td>29.89</td>\n",
       "    </tr>\n",
       "    <tr>\n",
       "      <th>1</th>\n",
       "      <td>168.9</td>\n",
       "      <td>42.2</td>\n",
       "      <td>124.3</td>\n",
       "      <td>158.3</td>\n",
       "      <td>10.8</td>\n",
       "      <td>1080.8</td>\n",
       "      <td>796.2</td>\n",
       "      <td>14</td>\n",
       "      <td>23.51</td>\n",
       "    </tr>\n",
       "    <tr>\n",
       "      <th>2</th>\n",
       "      <td>250.0</td>\n",
       "      <td>0.0</td>\n",
       "      <td>95.7</td>\n",
       "      <td>187.4</td>\n",
       "      <td>5.5</td>\n",
       "      <td>956.9</td>\n",
       "      <td>861.2</td>\n",
       "      <td>28</td>\n",
       "      <td>29.22</td>\n",
       "    </tr>\n",
       "    <tr>\n",
       "      <th>3</th>\n",
       "      <td>266.0</td>\n",
       "      <td>114.0</td>\n",
       "      <td>0.0</td>\n",
       "      <td>228.0</td>\n",
       "      <td>0.0</td>\n",
       "      <td>932.0</td>\n",
       "      <td>670.0</td>\n",
       "      <td>28</td>\n",
       "      <td>45.85</td>\n",
       "    </tr>\n",
       "    <tr>\n",
       "      <th>4</th>\n",
       "      <td>154.8</td>\n",
       "      <td>183.4</td>\n",
       "      <td>0.0</td>\n",
       "      <td>193.3</td>\n",
       "      <td>9.1</td>\n",
       "      <td>1047.4</td>\n",
       "      <td>696.7</td>\n",
       "      <td>28</td>\n",
       "      <td>18.29</td>\n",
       "    </tr>\n",
       "    <tr>\n",
       "      <th>5</th>\n",
       "      <td>255.0</td>\n",
       "      <td>0.0</td>\n",
       "      <td>0.0</td>\n",
       "      <td>192.0</td>\n",
       "      <td>0.0</td>\n",
       "      <td>889.8</td>\n",
       "      <td>945.0</td>\n",
       "      <td>90</td>\n",
       "      <td>21.86</td>\n",
       "    </tr>\n",
       "    <tr>\n",
       "      <th>6</th>\n",
       "      <td>166.8</td>\n",
       "      <td>250.2</td>\n",
       "      <td>0.0</td>\n",
       "      <td>203.5</td>\n",
       "      <td>0.0</td>\n",
       "      <td>975.6</td>\n",
       "      <td>692.6</td>\n",
       "      <td>7</td>\n",
       "      <td>15.75</td>\n",
       "    </tr>\n",
       "    <tr>\n",
       "      <th>7</th>\n",
       "      <td>251.4</td>\n",
       "      <td>0.0</td>\n",
       "      <td>118.3</td>\n",
       "      <td>188.5</td>\n",
       "      <td>6.4</td>\n",
       "      <td>1028.4</td>\n",
       "      <td>757.7</td>\n",
       "      <td>56</td>\n",
       "      <td>36.64</td>\n",
       "    </tr>\n",
       "    <tr>\n",
       "      <th>8</th>\n",
       "      <td>296.0</td>\n",
       "      <td>0.0</td>\n",
       "      <td>0.0</td>\n",
       "      <td>192.0</td>\n",
       "      <td>0.0</td>\n",
       "      <td>1085.0</td>\n",
       "      <td>765.0</td>\n",
       "      <td>28</td>\n",
       "      <td>21.65</td>\n",
       "    </tr>\n",
       "    <tr>\n",
       "      <th>9</th>\n",
       "      <td>155.0</td>\n",
       "      <td>184.0</td>\n",
       "      <td>143.0</td>\n",
       "      <td>194.0</td>\n",
       "      <td>9.0</td>\n",
       "      <td>880.0</td>\n",
       "      <td>699.0</td>\n",
       "      <td>28</td>\n",
       "      <td>28.99</td>\n",
       "    </tr>\n",
       "  </tbody>\n",
       "</table>\n",
       "</div>\n",
       "      <button class=\"colab-df-convert\" onclick=\"convertToInteractive('df-a004e26e-aacf-48c8-bc03-ccb03d516822')\"\n",
       "              title=\"Convert this dataframe to an interactive table.\"\n",
       "              style=\"display:none;\">\n",
       "        \n",
       "  <svg xmlns=\"http://www.w3.org/2000/svg\" height=\"24px\"viewBox=\"0 0 24 24\"\n",
       "       width=\"24px\">\n",
       "    <path d=\"M0 0h24v24H0V0z\" fill=\"none\"/>\n",
       "    <path d=\"M18.56 5.44l.94 2.06.94-2.06 2.06-.94-2.06-.94-.94-2.06-.94 2.06-2.06.94zm-11 1L8.5 8.5l.94-2.06 2.06-.94-2.06-.94L8.5 2.5l-.94 2.06-2.06.94zm10 10l.94 2.06.94-2.06 2.06-.94-2.06-.94-.94-2.06-.94 2.06-2.06.94z\"/><path d=\"M17.41 7.96l-1.37-1.37c-.4-.4-.92-.59-1.43-.59-.52 0-1.04.2-1.43.59L10.3 9.45l-7.72 7.72c-.78.78-.78 2.05 0 2.83L4 21.41c.39.39.9.59 1.41.59.51 0 1.02-.2 1.41-.59l7.78-7.78 2.81-2.81c.8-.78.8-2.07 0-2.86zM5.41 20L4 18.59l7.72-7.72 1.47 1.35L5.41 20z\"/>\n",
       "  </svg>\n",
       "      </button>\n",
       "      \n",
       "  <style>\n",
       "    .colab-df-container {\n",
       "      display:flex;\n",
       "      flex-wrap:wrap;\n",
       "      gap: 12px;\n",
       "    }\n",
       "\n",
       "    .colab-df-convert {\n",
       "      background-color: #E8F0FE;\n",
       "      border: none;\n",
       "      border-radius: 50%;\n",
       "      cursor: pointer;\n",
       "      display: none;\n",
       "      fill: #1967D2;\n",
       "      height: 32px;\n",
       "      padding: 0 0 0 0;\n",
       "      width: 32px;\n",
       "    }\n",
       "\n",
       "    .colab-df-convert:hover {\n",
       "      background-color: #E2EBFA;\n",
       "      box-shadow: 0px 1px 2px rgba(60, 64, 67, 0.3), 0px 1px 3px 1px rgba(60, 64, 67, 0.15);\n",
       "      fill: #174EA6;\n",
       "    }\n",
       "\n",
       "    [theme=dark] .colab-df-convert {\n",
       "      background-color: #3B4455;\n",
       "      fill: #D2E3FC;\n",
       "    }\n",
       "\n",
       "    [theme=dark] .colab-df-convert:hover {\n",
       "      background-color: #434B5C;\n",
       "      box-shadow: 0px 1px 3px 1px rgba(0, 0, 0, 0.15);\n",
       "      filter: drop-shadow(0px 1px 2px rgba(0, 0, 0, 0.3));\n",
       "      fill: #FFFFFF;\n",
       "    }\n",
       "  </style>\n",
       "\n",
       "      <script>\n",
       "        const buttonEl =\n",
       "          document.querySelector('#df-a004e26e-aacf-48c8-bc03-ccb03d516822 button.colab-df-convert');\n",
       "        buttonEl.style.display =\n",
       "          google.colab.kernel.accessAllowed ? 'block' : 'none';\n",
       "\n",
       "        async function convertToInteractive(key) {\n",
       "          const element = document.querySelector('#df-a004e26e-aacf-48c8-bc03-ccb03d516822');\n",
       "          const dataTable =\n",
       "            await google.colab.kernel.invokeFunction('convertToInteractive',\n",
       "                                                     [key], {});\n",
       "          if (!dataTable) return;\n",
       "\n",
       "          const docLinkHtml = 'Like what you see? Visit the ' +\n",
       "            '<a target=\"_blank\" href=https://colab.research.google.com/notebooks/data_table.ipynb>data table notebook</a>'\n",
       "            + ' to learn more about interactive tables.';\n",
       "          element.innerHTML = '';\n",
       "          dataTable['output_type'] = 'display_data';\n",
       "          await google.colab.output.renderOutput(dataTable, element);\n",
       "          const docLink = document.createElement('div');\n",
       "          docLink.innerHTML = docLinkHtml;\n",
       "          element.appendChild(docLink);\n",
       "        }\n",
       "      </script>\n",
       "    </div>\n",
       "  </div>\n",
       "  "
      ],
      "text/plain": [
       "   cement   slag    ash  water  superplastic  coarseagg  fineagg  age  \\\n",
       "0   141.3  212.0    0.0  203.5           0.0      971.8    748.5   28   \n",
       "1   168.9   42.2  124.3  158.3          10.8     1080.8    796.2   14   \n",
       "2   250.0    0.0   95.7  187.4           5.5      956.9    861.2   28   \n",
       "3   266.0  114.0    0.0  228.0           0.0      932.0    670.0   28   \n",
       "4   154.8  183.4    0.0  193.3           9.1     1047.4    696.7   28   \n",
       "5   255.0    0.0    0.0  192.0           0.0      889.8    945.0   90   \n",
       "6   166.8  250.2    0.0  203.5           0.0      975.6    692.6    7   \n",
       "7   251.4    0.0  118.3  188.5           6.4     1028.4    757.7   56   \n",
       "8   296.0    0.0    0.0  192.0           0.0     1085.0    765.0   28   \n",
       "9   155.0  184.0  143.0  194.0           9.0      880.0    699.0   28   \n",
       "\n",
       "   strength  \n",
       "0     29.89  \n",
       "1     23.51  \n",
       "2     29.22  \n",
       "3     45.85  \n",
       "4     18.29  \n",
       "5     21.86  \n",
       "6     15.75  \n",
       "7     36.64  \n",
       "8     21.65  \n",
       "9     28.99  "
      ]
     },
     "execution_count": 2,
     "metadata": {},
     "output_type": "execute_result"
    }
   ],
   "source": [
    "data = pd.read_csv(\"https://raw.githubusercontent.com/supasonicx/ATA-praktikum-01/main/concrete.csv\")\n",
    "data.head(10)"
   ]
  },
  {
   "cell_type": "markdown",
   "metadata": {
    "id": "wS5xb2jYL5i-"
   },
   "source": [
    "# 2. EDA"
   ]
  },
  {
   "cell_type": "markdown",
   "metadata": {
    "id": "wwGOomGqL5i_"
   },
   "source": [
    "## 2.1.Univariate analysis\n",
    "<a id=\"2\"></a>"
   ]
  },
  {
   "cell_type": "markdown",
   "metadata": {
    "id": "kBcRsvnyL5i_"
   },
   "source": [
    "## 2.1.1 [Superplastic]"
   ]
  },
  {
   "cell_type": "markdown",
   "metadata": {
    "id": "z1eN2BCKL5i_"
   },
   "source": [
    "### **i.\tDistribusi**"
   ]
  },
  {
   "cell_type": "code",
   "execution_count": 3,
   "metadata": {
    "colab": {
     "base_uri": "https://localhost:8080/",
     "height": 483
    },
    "id": "gnZZasMD_dWP",
    "outputId": "8cf394de-d73f-43ea-958b-4e0928a87120"
   },
   "outputs": [
    {
     "data": {
      "image/png": "[encoded data removed]",
      "text/plain": [
       "<Figure size 576x576 with 1 Axes>"
      ]
     },
     "metadata": {
      "needs_background": "light"
     },
     "output_type": "display_data"
    }
   ],
   "source": [
    "# Buat diagram di sini\n",
    "data['superplastic'].hist(figsize=(8,8))\n",
    "plt.show()"
   ]
  },
  {
   "cell_type": "code",
   "execution_count": 4,
   "metadata": {
    "colab": {
     "base_uri": "https://localhost:8080/"
    },
    "id": "DQfip_JwG1Xm",
    "outputId": "4c0906ba-732c-450e-a560-d4e711d20549"
   },
   "outputs": [
    {
     "data": {
      "text/plain": [
       "(268, 9)"
      ]
     },
     "execution_count": 4,
     "metadata": {},
     "output_type": "execute_result"
    }
   ],
   "source": [
    "data[data['superplastic']>10].shape"
   ]
  },
  {
   "cell_type": "markdown",
   "metadata": {
    "id": "j2aLsid0L5jA"
   },
   "source": [
    "### **ii.\tDeskripsi**"
   ]
  },
  {
   "cell_type": "markdown",
   "metadata": {
    "id": "gmOqhMl-L5jB"
   },
   "source": [
    "\n",
    "Histogram di atas menjelaskan bahwa :\n",
    "*  atribut \"superplastic\" tidak simetris.\n",
    "*  miring ke kanan \n",
    "*  superplastic minimum dan maksimum adalah 0 dan 32.2.\n",
    "*  Dataset ini memiliki lebih sedikit pengamatan (268) tentang superplastic orang setelah superplastic tertentu, yaitu 10"
   ]
  },
  {
   "cell_type": "markdown",
   "metadata": {
    "id": "gjEyFboiZUuo"
   },
   "source": [
    "## 2.1.1 [Age]"
   ]
  },
  {
   "cell_type": "markdown",
   "metadata": {
    "id": "kIlVOLDrZUu5"
   },
   "source": [
    "### **i.\tDistribusi**"
   ]
  },
  {
   "cell_type": "code",
   "execution_count": 5,
   "metadata": {
    "id": "pi5JTh9pZjcl"
   },
   "outputs": [],
   "source": [
    "data['age-group'] = np.where(data[\"age\"]> 30, \">30\",\"<=30\")"
   ]
  },
  {
   "cell_type": "code",
   "execution_count": 6,
   "metadata": {
    "colab": {
     "base_uri": "https://localhost:8080/",
     "height": 442
    },
    "id": "rTwmP-XvZmUo",
    "outputId": "54f1636a-a0d6-4c23-e010-376e03f4755b"
   },
   "outputs": [
    {
     "data": {
      "image/png": "[encoded data removed]",
      "text/plain": [
       "<Figure size 504x504 with 1 Axes>"
      ]
     },
     "metadata": {
      "needs_background": "light"
     },
     "output_type": "display_data"
    }
   ],
   "source": [
    "plt.figure(figsize=(7,7))\n",
    "total = float(len(data) )\n",
    "\n",
    "ax = sns.countplot(x=\"age-group\", data=data)\n",
    "for p in ax.patches:\n",
    "    height = p.get_height()\n",
    "    ax.text(p.get_x()+p.get_width()/2.,\n",
    "            height + 3,\n",
    "            '{:1.2f}'.format((height/total)*100),\n",
    "            ha=\"center\") \n",
    "plt.show()"
   ]
  },
  {
   "cell_type": "markdown",
   "metadata": {
    "id": "Qv4jSB20ZUu7"
   },
   "source": [
    "### **ii.\tDeskripsi**"
   ]
  },
  {
   "cell_type": "markdown",
   "metadata": {
    "id": "ydXQ9b4PZUu7"
   },
   "source": [
    "Distribusi di atas menjelaskan bahwa :\n",
    "* Dataset ini tidak seimbang, yaitu 27,28% di antaranya termasuk dalam kelompok age 1 (yang berumur lebih dari 30) dan 72,72% termasuk dalam kelompok age 0 (yang berumur kurang dari 30)"
   ]
  },
  {
   "cell_type": "markdown",
   "metadata": {
    "id": "HmFgPYahL5jB"
   },
   "source": [
    "<a id=\"3\"></a>\n",
    "# 2.2.Bivariate analysis"
   ]
  },
  {
   "cell_type": "markdown",
   "metadata": {
    "id": "LLSLNkK8L5jB"
   },
   "source": [
    "## 2.2.1 superplastic - Age (Hubungan)"
   ]
  },
  {
   "cell_type": "markdown",
   "metadata": {
    "id": "P53cH9moL5jB"
   },
   "source": [
    "### i. **Boxplot**"
   ]
  },
  {
   "cell_type": "code",
   "execution_count": 7,
   "metadata": {
    "colab": {
     "base_uri": "https://localhost:8080/",
     "height": 606
    },
    "id": "I4Mw8_8c51w_",
    "outputId": "aae2e90a-17a7-42d1-d99c-57e23da33989"
   },
   "outputs": [
    {
     "data": {
      "image/png": "[encoded data removed]",
      "text/plain": [
       "<Figure size 720x720 with 1 Axes>"
      ]
     },
     "metadata": {
      "needs_background": "light"
     },
     "output_type": "display_data"
    }
   ],
   "source": [
    "fig = plt.figure(figsize=(10,10)) \n",
    "sns.boxplot(x=\"age-group\", y=\"superplastic\",data=data)\n",
    "plt.show()"
   ]
  },
  {
   "cell_type": "code",
   "execution_count": 8,
   "metadata": {
    "colab": {
     "base_uri": "https://localhost:8080/",
     "height": 112
    },
    "id": "3OjZJ96JDwQd",
    "outputId": "b02944d6-8d5e-4dd9-8cf1-b5c695027ad1"
   },
   "outputs": [
    {
     "data": {
      "text/html": [
       "\n",
       "  <div id=\"df-6b8f3bc2-b277-4f13-ab4c-d983e124f51b\">\n",
       "    <div class=\"colab-df-container\">\n",
       "      <div>\n",
       "<style scoped>\n",
       "    .dataframe tbody tr th:only-of-type {\n",
       "        vertical-align: middle;\n",
       "    }\n",
       "\n",
       "    .dataframe tbody tr th {\n",
       "        vertical-align: top;\n",
       "    }\n",
       "\n",
       "    .dataframe thead th {\n",
       "        text-align: right;\n",
       "    }\n",
       "</style>\n",
       "<table border=\"1\" class=\"dataframe\">\n",
       "  <thead>\n",
       "    <tr style=\"text-align: right;\">\n",
       "      <th></th>\n",
       "      <th>age-group</th>\n",
       "      <th>superplastic</th>\n",
       "    </tr>\n",
       "  </thead>\n",
       "  <tbody>\n",
       "    <tr>\n",
       "      <th>0</th>\n",
       "      <td>&lt;=30</td>\n",
       "      <td>6.336983</td>\n",
       "    </tr>\n",
       "    <tr>\n",
       "      <th>1</th>\n",
       "      <td>&gt;30</td>\n",
       "      <td>5.851957</td>\n",
       "    </tr>\n",
       "  </tbody>\n",
       "</table>\n",
       "</div>\n",
       "      <button class=\"colab-df-convert\" onclick=\"convertToInteractive('df-6b8f3bc2-b277-4f13-ab4c-d983e124f51b')\"\n",
       "              title=\"Convert this dataframe to an interactive table.\"\n",
       "              style=\"display:none;\">\n",
       "        \n",
       "  <svg xmlns=\"http://www.w3.org/2000/svg\" height=\"24px\"viewBox=\"0 0 24 24\"\n",
       "       width=\"24px\">\n",
       "    <path d=\"M0 0h24v24H0V0z\" fill=\"none\"/>\n",
       "    <path d=\"M18.56 5.44l.94 2.06.94-2.06 2.06-.94-2.06-.94-.94-2.06-.94 2.06-2.06.94zm-11 1L8.5 8.5l.94-2.06 2.06-.94-2.06-.94L8.5 2.5l-.94 2.06-2.06.94zm10 10l.94 2.06.94-2.06 2.06-.94-2.06-.94-.94-2.06-.94 2.06-2.06.94z\"/><path d=\"M17.41 7.96l-1.37-1.37c-.4-.4-.92-.59-1.43-.59-.52 0-1.04.2-1.43.59L10.3 9.45l-7.72 7.72c-.78.78-.78 2.05 0 2.83L4 21.41c.39.39.9.59 1.41.59.51 0 1.02-.2 1.41-.59l7.78-7.78 2.81-2.81c.8-.78.8-2.07 0-2.86zM5.41 20L4 18.59l7.72-7.72 1.47 1.35L5.41 20z\"/>\n",
       "  </svg>\n",
       "      </button>\n",
       "      \n",
       "  <style>\n",
       "    .colab-df-container {\n",
       "      display:flex;\n",
       "      flex-wrap:wrap;\n",
       "      gap: 12px;\n",
       "    }\n",
       "\n",
       "    .colab-df-convert {\n",
       "      background-color: #E8F0FE;\n",
       "      border: none;\n",
       "      border-radius: 50%;\n",
       "      cursor: pointer;\n",
       "      display: none;\n",
       "      fill: #1967D2;\n",
       "      height: 32px;\n",
       "      padding: 0 0 0 0;\n",
       "      width: 32px;\n",
       "    }\n",
       "\n",
       "    .colab-df-convert:hover {\n",
       "      background-color: #E2EBFA;\n",
       "      box-shadow: 0px 1px 2px rgba(60, 64, 67, 0.3), 0px 1px 3px 1px rgba(60, 64, 67, 0.15);\n",
       "      fill: #174EA6;\n",
       "    }\n",
       "\n",
       "    [theme=dark] .colab-df-convert {\n",
       "      background-color: #3B4455;\n",
       "      fill: #D2E3FC;\n",
       "    }\n",
       "\n",
       "    [theme=dark] .colab-df-convert:hover {\n",
       "      background-color: #434B5C;\n",
       "      box-shadow: 0px 1px 3px 1px rgba(0, 0, 0, 0.15);\n",
       "      filter: drop-shadow(0px 1px 2px rgba(0, 0, 0, 0.3));\n",
       "      fill: #FFFFFF;\n",
       "    }\n",
       "  </style>\n",
       "\n",
       "      <script>\n",
       "        const buttonEl =\n",
       "          document.querySelector('#df-6b8f3bc2-b277-4f13-ab4c-d983e124f51b button.colab-df-convert');\n",
       "        buttonEl.style.display =\n",
       "          google.colab.kernel.accessAllowed ? 'block' : 'none';\n",
       "\n",
       "        async function convertToInteractive(key) {\n",
       "          const element = document.querySelector('#df-6b8f3bc2-b277-4f13-ab4c-d983e124f51b');\n",
       "          const dataTable =\n",
       "            await google.colab.kernel.invokeFunction('convertToInteractive',\n",
       "                                                     [key], {});\n",
       "          if (!dataTable) return;\n",
       "\n",
       "          const docLinkHtml = 'Like what you see? Visit the ' +\n",
       "            '<a target=\"_blank\" href=https://colab.research.google.com/notebooks/data_table.ipynb>data table notebook</a>'\n",
       "            + ' to learn more about interactive tables.';\n",
       "          element.innerHTML = '';\n",
       "          dataTable['output_type'] = 'display_data';\n",
       "          await google.colab.output.renderOutput(dataTable, element);\n",
       "          const docLink = document.createElement('div');\n",
       "          docLink.innerHTML = docLinkHtml;\n",
       "          element.appendChild(docLink);\n",
       "        }\n",
       "      </script>\n",
       "    </div>\n",
       "  </div>\n",
       "  "
      ],
      "text/plain": [
       "  age-group  superplastic\n",
       "0      <=30      6.336983\n",
       "1       >30      5.851957"
      ]
     },
     "execution_count": 8,
     "metadata": {},
     "output_type": "execute_result"
    }
   ],
   "source": [
    "data[['age-group', 'superplastic']].groupby(['age-group'], as_index=False).mean().sort_values(by='superplastic', ascending=False)"
   ]
  },
  {
   "cell_type": "code",
   "execution_count": 9,
   "metadata": {
    "colab": {
     "base_uri": "https://localhost:8080/",
     "height": 112
    },
    "id": "BT1GWkqsFf2Q",
    "outputId": "43cce638-4363-45c0-d9cd-00aed8fdd8d6"
   },
   "outputs": [
    {
     "data": {
      "text/html": [
       "\n",
       "  <div id=\"df-ce69c49a-e244-4ef4-b738-ff7b0abcc63e\">\n",
       "    <div class=\"colab-df-container\">\n",
       "      <div>\n",
       "<style scoped>\n",
       "    .dataframe tbody tr th:only-of-type {\n",
       "        vertical-align: middle;\n",
       "    }\n",
       "\n",
       "    .dataframe tbody tr th {\n",
       "        vertical-align: top;\n",
       "    }\n",
       "\n",
       "    .dataframe thead th {\n",
       "        text-align: right;\n",
       "    }\n",
       "</style>\n",
       "<table border=\"1\" class=\"dataframe\">\n",
       "  <thead>\n",
       "    <tr style=\"text-align: right;\">\n",
       "      <th></th>\n",
       "      <th>age-group</th>\n",
       "      <th>superplastic</th>\n",
       "    </tr>\n",
       "  </thead>\n",
       "  <tbody>\n",
       "    <tr>\n",
       "      <th>0</th>\n",
       "      <td>&lt;=30</td>\n",
       "      <td>6.7</td>\n",
       "    </tr>\n",
       "    <tr>\n",
       "      <th>1</th>\n",
       "      <td>&gt;30</td>\n",
       "      <td>5.5</td>\n",
       "    </tr>\n",
       "  </tbody>\n",
       "</table>\n",
       "</div>\n",
       "      <button class=\"colab-df-convert\" onclick=\"convertToInteractive('df-ce69c49a-e244-4ef4-b738-ff7b0abcc63e')\"\n",
       "              title=\"Convert this dataframe to an interactive table.\"\n",
       "              style=\"display:none;\">\n",
       "        \n",
       "  <svg xmlns=\"http://www.w3.org/2000/svg\" height=\"24px\"viewBox=\"0 0 24 24\"\n",
       "       width=\"24px\">\n",
       "    <path d=\"M0 0h24v24H0V0z\" fill=\"none\"/>\n",
       "    <path d=\"M18.56 5.44l.94 2.06.94-2.06 2.06-.94-2.06-.94-.94-2.06-.94 2.06-2.06.94zm-11 1L8.5 8.5l.94-2.06 2.06-.94-2.06-.94L8.5 2.5l-.94 2.06-2.06.94zm10 10l.94 2.06.94-2.06 2.06-.94-2.06-.94-.94-2.06-.94 2.06-2.06.94z\"/><path d=\"M17.41 7.96l-1.37-1.37c-.4-.4-.92-.59-1.43-.59-.52 0-1.04.2-1.43.59L10.3 9.45l-7.72 7.72c-.78.78-.78 2.05 0 2.83L4 21.41c.39.39.9.59 1.41.59.51 0 1.02-.2 1.41-.59l7.78-7.78 2.81-2.81c.8-.78.8-2.07 0-2.86zM5.41 20L4 18.59l7.72-7.72 1.47 1.35L5.41 20z\"/>\n",
       "  </svg>\n",
       "      </button>\n",
       "      \n",
       "  <style>\n",
       "    .colab-df-container {\n",
       "      display:flex;\n",
       "      flex-wrap:wrap;\n",
       "      gap: 12px;\n",
       "    }\n",
       "\n",
       "    .colab-df-convert {\n",
       "      background-color: #E8F0FE;\n",
       "      border: none;\n",
       "      border-radius: 50%;\n",
       "      cursor: pointer;\n",
       "      display: none;\n",
       "      fill: #1967D2;\n",
       "      height: 32px;\n",
       "      padding: 0 0 0 0;\n",
       "      width: 32px;\n",
       "    }\n",
       "\n",
       "    .colab-df-convert:hover {\n",
       "      background-color: #E2EBFA;\n",
       "      box-shadow: 0px 1px 2px rgba(60, 64, 67, 0.3), 0px 1px 3px 1px rgba(60, 64, 67, 0.15);\n",
       "      fill: #174EA6;\n",
       "    }\n",
       "\n",
       "    [theme=dark] .colab-df-convert {\n",
       "      background-color: #3B4455;\n",
       "      fill: #D2E3FC;\n",
       "    }\n",
       "\n",
       "    [theme=dark] .colab-df-convert:hover {\n",
       "      background-color: #434B5C;\n",
       "      box-shadow: 0px 1px 3px 1px rgba(0, 0, 0, 0.15);\n",
       "      filter: drop-shadow(0px 1px 2px rgba(0, 0, 0, 0.3));\n",
       "      fill: #FFFFFF;\n",
       "    }\n",
       "  </style>\n",
       "\n",
       "      <script>\n",
       "        const buttonEl =\n",
       "          document.querySelector('#df-ce69c49a-e244-4ef4-b738-ff7b0abcc63e button.colab-df-convert');\n",
       "        buttonEl.style.display =\n",
       "          google.colab.kernel.accessAllowed ? 'block' : 'none';\n",
       "\n",
       "        async function convertToInteractive(key) {\n",
       "          const element = document.querySelector('#df-ce69c49a-e244-4ef4-b738-ff7b0abcc63e');\n",
       "          const dataTable =\n",
       "            await google.colab.kernel.invokeFunction('convertToInteractive',\n",
       "                                                     [key], {});\n",
       "          if (!dataTable) return;\n",
       "\n",
       "          const docLinkHtml = 'Like what you see? Visit the ' +\n",
       "            '<a target=\"_blank\" href=https://colab.research.google.com/notebooks/data_table.ipynb>data table notebook</a>'\n",
       "            + ' to learn more about interactive tables.';\n",
       "          element.innerHTML = '';\n",
       "          dataTable['output_type'] = 'display_data';\n",
       "          await google.colab.output.renderOutput(dataTable, element);\n",
       "          const docLink = document.createElement('div');\n",
       "          docLink.innerHTML = docLinkHtml;\n",
       "          element.appendChild(docLink);\n",
       "        }\n",
       "      </script>\n",
       "    </div>\n",
       "  </div>\n",
       "  "
      ],
      "text/plain": [
       "  age-group  superplastic\n",
       "0      <=30           6.7\n",
       "1       >30           5.5"
      ]
     },
     "execution_count": 9,
     "metadata": {},
     "output_type": "execute_result"
    }
   ],
   "source": [
    "data[['age-group', 'superplastic']].groupby(['age-group'], as_index=False).median().sort_values(by='superplastic', ascending=False)"
   ]
  },
  {
   "cell_type": "markdown",
   "metadata": {
    "id": "Mv8pVkclL5jC"
   },
   "source": [
    "### ii. Deskripsi"
   ]
  },
  {
   "cell_type": "markdown",
   "metadata": {
    "id": "6Q6DzexTL5jC"
   },
   "source": [
    "Bivariate boxplot di atas menjelaskan bahwa :\n",
    "* Rata-rata \"superplastic\" untuk kelompok age (<= 30) adalah 6.336983 superplastic. Dan untuk kelompok age (> 30) adalah 5.851957 superplastic\n",
    "* Kelompok age(>30) memiliki median \"superplastic\" 5.5  lebih rendah daripada kelompok age(<=30) yang memiliki median \"superplastic\" 6.7\n",
    "."
   ]
  },
  {
   "cell_type": "markdown",
   "metadata": {
    "id": "1y86CsUCL5jC"
   },
   "source": [
    "### iii. Uji Hipotesis\n",
    "**Two sampled T-test** :-Uji Independent Samples t Test atau 2-sample t-test membandingkan rata-rata dua kelompok independen untuk menentukan apakah ada bukti statistik bahwa rata-rata populasi terkait berbeda secara signifikan.\n"
   ]
  },
  {
   "cell_type": "markdown",
   "metadata": {
    "id": "7pGVPErEL5jD"
   },
   "source": [
    "Tentukan null dan alternate hypothesis.\n",
    "\n",
    "    Secara umum, null hypothesis akan menyatakan bahwa kedua populasi yang diuji tidak memiliki perbedaan yang signifikan secara statistik.\n",
    "    alternate hypothesis akan menyatakan bahwa ada perbedaan."
   ]
  },
  {
   "cell_type": "markdown",
   "metadata": {
    "id": "E5dHqIpNL5jD"
   },
   "source": [
    "Dalam contoh ini kita dapat mengatakan bahwa:\n",
    "*  Null Hypothesis :- tidak ada perbedaan Rerata superplastic kelompok age >30 dan kelompok age <=30.\n",
    "*  Alternate Hypothesis :- ada perbedaan Rerata superplastic kelompok age >30 dan kelompok age <=30."
   ]
  },
  {
   "cell_type": "code",
   "execution_count": 10,
   "metadata": {
    "colab": {
     "base_uri": "https://localhost:8080/"
    },
    "id": "WdS3v-YKL5jD",
    "outputId": "61db24d1-10c0-4108-97bc-b9fb5254f3c1"
   },
   "outputs": [
    {
     "name": "stdout",
     "output_type": "stream",
     "text": [
      "ttest 1.213945281990422\n",
      "p value 0.22622075676743622\n",
      "null hypothesis diterima\n"
     ]
    }
   ],
   "source": [
    "66# Buat uji hipotesis untuk menentukan null atau alternate hypothesis\n",
    "# Menguji pada tabel \n",
    "\n",
    "import random\n",
    "\n",
    "data = data[(np.abs(stats.zscore(data[\"superplastic\"])) < 3)] \n",
    "\n",
    "income_1 = data[data['age-group']==\"<=30\"]['superplastic']\n",
    "income_0 = data[data['age-group']==\">30\"]['superplastic']\n",
    "\n",
    "income_0 = income_0.values.tolist()\n",
    "income_0 = random.sample(income_0,100)\n",
    "income_1 = income_1.values.tolist()\n",
    "income_1 = random.sample(income_1,100)\n",
    "\n",
    "from scipy.stats import ttest_ind\n",
    "ttest,pval = ttest_ind(income_1,income_0,equal_var = False)\n",
    "print(\"ttest\",ttest)\n",
    "print('p value',pval)\n",
    "\n",
    "\n",
    "if pval <0.05:\n",
    "    print(\"null hypothesis ditolak\")\n",
    "else:\n",
    "    print(\"null hypothesis diterima\")"
   ]
  },
  {
   "cell_type": "markdown",
   "metadata": {
    "id": "1b6TiblaL5jE"
   },
   "source": [
    "### iv. Kesimpulan akhir"
   ]
  },
  {
   "cell_type": "markdown",
   "metadata": {
    "id": "ASat7hCnL5jE"
   },
   "source": [
    "Menggunakan analisis statistik,\n",
    "\n",
    "  Dapat disimpulkan bahwa terdapat perbedaan yang signifikan pada rerata superplastic kelompok age >30 dan kelompok age <=30.\n",
    "  Hal Ini membuktikan bahwa superplastic memiliki peranan dalam membedakan kelompok age.\n",
    "\n",
    "    "
   ]
  }
 ],
 "metadata": {
  "colab": {
   "collapsed_sections": [],
   "name": "Antonius Fhilifi_Praktikum.ipynb",
   "provenance": []
  },
  "kernelspec": {
   "display_name": "Python 3 (ipykernel)",
   "language": "python",
   "name": "python3"
  },
  "language_info": {
   "codemirror_mode": {
    "name": "ipython",
    "version": 3
   },
   "file_extension": ".py",
   "mimetype": "text/x-python",
   "name": "python",
   "nbconvert_exporter": "python",
   "pygments_lexer": "ipython3",
   "version": "3.10.2"
  }
 },
 "nbformat": 4,
 "nbformat_minor": 1
}
