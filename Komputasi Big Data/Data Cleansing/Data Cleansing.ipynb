{
 "cells": [
  {
   "cell_type": "markdown",
   "metadata": {
    "id": "pt7g6Lx4rLzc"
   },
   "source": [
    "# Praktikum V\n",
    "\n",
    "Selamat datang pada praktikum unggulan minggu ke - 5. \n",
    "\n",
    "\n",
    "![1_L0464qoX7pSkIQMBcF73Tg.png](attachment:1_L0464qoX7pSkIQMBcF73Tg.png)\n",
    "\n",
    "Gambar diatas menunjukkan tahapan yang Anda perlu lakukan ketika ingin membangun sebuah model artificial intelligence. \n",
    "Pada minggu ini Anda akan melakukan fase data cleansing atau pembersihan data. Tahapan ini biasanya dilakuakan sebelum anda melakukan tahapan EDA yang telah Anda pelajari sebelumnya. Tahapan ini perlu dilakukan jika data yang Anda miliki tidak 'bersih', sehingga perlu dilakukan pemrosesan terlebih dahulu (tahapan pre-processing) sebelum data tersebut masuk kedalam algoritma pembangunan model. \n",
    "\n",
    "Materi praktikum ini dibagi menjadi 2 bagian dengan menggunakan dua dataset yang berbeda. Adapun operasi akan Anda lakukan antara lain \n",
    "* Melihat bentuk data (shape) dari data train dan test set\n",
    "* Cek data NaN, bila ada maka hapus/drop data NaN tsb\n",
    "* Cek outliers, bila ada maka hapus/drop outliers tsb\n",
    "* Melakukan konversi jenis kolom yang relevan.\n",
    "* Melakukan transformasi terhadap data yang bersifat kategori \n",
    "\n",
    "Operasi yang Anda lakukan pada tahapan pembersihan data sangat bergantung pada karakteristik permasalahan, karakter data, serta jenis data yang terdapat dalam dataset Anda. Sebagai referensi, berikut bagan dari berbagai macam tipe data yang mungkin Anda temui dalam sebuah dataset. \n",
    "\n"
   ]
  },
  {
   "cell_type": "markdown",
   "metadata": {
    "id": "USeNS8nBrLzk"
   },
   "source": [
    "\n",
    "![8UUywzzaMhY2ZGHrWE7VkA_b.png](attachment:8UUywzzaMhY2ZGHrWE7VkA_b.png)"
   ]
  },
  {
   "cell_type": "code",
   "execution_count": null,
   "metadata": {
    "_cell_guid": "b1076dfc-b9ad-4769-8c92-a6c4dae69d19",
    "_uuid": "8f2839f25d086af736a60e9eeb907d3b93b6e0e5",
    "execution": {
     "iopub.execute_input": "2021-10-20T09:14:12.864929Z",
     "iopub.status.busy": "2021-10-20T09:14:12.864431Z",
     "iopub.status.idle": "2021-10-20T09:14:13.631899Z",
     "shell.execute_reply": "2021-10-20T09:14:13.631124Z",
     "shell.execute_reply.started": "2021-10-20T09:14:12.864675Z"
    },
    "id": "Bunzx0_wrLzm"
   },
   "outputs": [],
   "source": [
    "import numpy as np \n",
    "import pandas as pd \n",
    "import sklearn\n",
    "import seaborn as sns\n",
    "import matplotlib.pyplot as plt"
   ]
  },
  {
   "cell_type": "markdown",
   "metadata": {
    "id": "skgm-k0srLzp"
   },
   "source": [
    "### Dataset 1\n",
    "\n",
    "Dataset yang akan Anda gunakan pada praktikum kali ini adalah dataset transaksi taksi di kota New York. Dataset ini memiliki jumlah sebanyak 200.000 data dengan 8 fitur. "
   ]
  },
  {
   "cell_type": "code",
   "execution_count": null,
   "metadata": {
    "_cell_guid": "79c7e3d0-c299-4dcb-8224-4455121ee9b0",
    "_uuid": "d629ff2d2480ee46fbb7e2d37f6b5fab8052498a",
    "execution": {
     "iopub.execute_input": "2021-10-20T09:14:29.422831Z",
     "iopub.status.busy": "2021-10-20T09:14:29.422496Z",
     "iopub.status.idle": "2021-10-20T09:14:33.005905Z",
     "shell.execute_reply": "2021-10-20T09:14:33.005050Z",
     "shell.execute_reply.started": "2021-10-20T09:14:29.422762Z"
    },
    "id": "QT4QXTrYrLzq"
   },
   "outputs": [],
   "source": [
    "# Load data train dan test ke dalam pandas dataframe\n",
    "# train = pd.read_csv(\"../input/train.csv\", nrows = 1000000) # kita hanya gunakan 1 juta baris data\n",
    "train = pd.read_csv(\"https://raw.githubusercontent.com/supasonicx/ATA-praktikum-01/main/Split-200000.csv\")"
   ]
  },
  {
   "cell_type": "markdown",
   "metadata": {
    "_uuid": "b1eeb9d0345aa40e7f56abecf9d31160c5d54e6c",
    "id": "Uj2xFTprrLzr"
   },
   "source": [
    "## BAGIAN 1 : DATA CLEANSING PENGHILANGAN MISSING VALUE DAN DATA ANOMALI**\n",
    "\n",
    "Pada bagian ini, Anda akan mempraktikan cara untuk :\n",
    "* Melihat bentuk data (shape) dari data train dan test set\n",
    "* Cek data NaN, bila ada maka hapus/drop data NaN tsb\n",
    "* Cek outliers, bila ada maka hapus/drop outliers tsb\n",
    "* Melakukan konversi jenis kolom yang relevan.\n",
    "\n"
   ]
  },
  {
   "cell_type": "code",
   "execution_count": null,
   "metadata": {
    "_uuid": "148ecc97189af46a200b00cc52fa0a91e21bd044",
    "execution": {
     "iopub.execute_input": "2021-10-20T09:14:37.904096Z",
     "iopub.status.busy": "2021-10-20T09:14:37.903774Z",
     "iopub.status.idle": "2021-10-20T09:14:37.911259Z",
     "shell.execute_reply": "2021-10-20T09:14:37.910391Z",
     "shell.execute_reply.started": "2021-10-20T09:14:37.904034Z"
    },
    "id": "IhigfMqdrLzs"
   },
   "outputs": [],
   "source": [
    "# menghasilkan jumlah baris dan jumlah kolom (bentuk data) pada data train dengan fungsi .shape\n",
    "train.shape"
   ]
  },
  {
   "cell_type": "code",
   "execution_count": null,
   "metadata": {
    "_kg_hide-output": true,
    "_uuid": "e89ffea1211d7394ec677f5dc46bad3eaf521094",
    "execution": {
     "iopub.execute_input": "2021-10-20T09:15:00.421701Z",
     "iopub.status.busy": "2021-10-20T09:15:00.421352Z",
     "iopub.status.idle": "2021-10-20T09:15:00.449637Z",
     "shell.execute_reply": "2021-10-20T09:15:00.448919Z",
     "shell.execute_reply.started": "2021-10-20T09:15:00.421633Z"
    },
    "id": "ZTwl7HWHrLzu"
   },
   "outputs": [],
   "source": [
    "# menampilkan 10 data teratas\n",
    "train.head(10)"
   ]
  },
  {
   "cell_type": "code",
   "execution_count": null,
   "metadata": {
    "_kg_hide-output": true,
    "_uuid": "a98e66b89be9c27fa284966eb71ba2ea09b4c5e1",
    "execution": {
     "iopub.execute_input": "2021-10-20T09:15:03.937395Z",
     "iopub.status.busy": "2021-10-20T09:15:03.937057Z",
     "iopub.status.idle": "2021-10-20T09:15:04.498110Z",
     "shell.execute_reply": "2021-10-20T09:15:04.497276Z",
     "shell.execute_reply.started": "2021-10-20T09:15:03.937335Z"
    },
    "id": "PY-n7YfarLzv"
   },
   "outputs": [],
   "source": [
    "# fungsi describe() untuk mengetahui statistika data untuk data numeric seperti count, mean, standard deviation, maximum, mininum, dan quartile.\n",
    "train.describe()"
   ]
  },
  {
   "cell_type": "code",
   "execution_count": null,
   "metadata": {
    "_kg_hide-output": true,
    "_uuid": "0b18baf8d30016a2d3012c33a7b28068b045ad08",
    "execution": {
     "iopub.execute_input": "2021-10-20T09:15:09.618918Z",
     "iopub.status.busy": "2021-10-20T09:15:09.618451Z",
     "iopub.status.idle": "2021-10-20T09:15:09.962835Z",
     "shell.execute_reply": "2021-10-20T09:15:09.962032Z",
     "shell.execute_reply.started": "2021-10-20T09:15:09.618686Z"
    },
    "id": "TJnPjlOArLzx"
   },
   "outputs": [],
   "source": [
    "#cek nilai yang hilang / missing values di dalam data train\n",
    "train.isnull().sum().sort_values(ascending=False)"
   ]
  },
  {
   "cell_type": "markdown",
   "metadata": {
    "id": "vB4L_R_prLzy"
   },
   "source": [
    "Missing values adalah nilai yang tidak terdefinisi di dataset. Bentuknya beragam, bisa berupa blank cell, ataupun simbol-simbol tertentu seperti NaN (Not a Number), NA (Not Available), ?, -, dan sebagainya. Missing values dapat menjadi masalah dalam analisis data serta tentunya dapat mempengaruhi hasil modelling machine learning. **Dari hasil diatas data train mengandung 10 data missing values pada kolom/field dropoff_latitude dan dropoff_longitude.**"
   ]
  },
  {
   "cell_type": "markdown",
   "metadata": {
    "id": "R0URMrwNrLzz"
   },
   "source": [
    "Dari hasil diatas data test ternyata tidak memiliki missing values"
   ]
  },
  {
   "cell_type": "code",
   "execution_count": null,
   "metadata": {
    "_uuid": "5c861be6ec1b95017a0b95d88d4452717e8a1f5e",
    "execution": {
     "iopub.execute_input": "2021-10-20T09:15:25.585373Z",
     "iopub.status.busy": "2021-10-20T09:15:25.584742Z",
     "iopub.status.idle": "2021-10-20T09:15:26.079386Z",
     "shell.execute_reply": "2021-10-20T09:15:26.078413Z",
     "shell.execute_reply.started": "2021-10-20T09:15:25.585304Z"
    },
    "id": "gDenKIZcrLz0"
   },
   "outputs": [],
   "source": [
    "#drop/hapus data missing values\n",
    "train = train.drop(train[train.isnull().any(1)].index, axis = 0)"
   ]
  },
  {
   "cell_type": "code",
   "execution_count": null,
   "metadata": {
    "_uuid": "ae6a2b631826cbab3e7925d236f884607ae26fd6",
    "execution": {
     "iopub.execute_input": "2021-10-20T09:15:28.098971Z",
     "iopub.status.busy": "2021-10-20T09:15:28.098649Z",
     "iopub.status.idle": "2021-10-20T09:15:28.103535Z",
     "shell.execute_reply": "2021-10-20T09:15:28.102744Z",
     "shell.execute_reply.started": "2021-10-20T09:15:28.098905Z"
    },
    "id": "ck5qPiOQrLz1"
   },
   "outputs": [],
   "source": [
    "train.shape"
   ]
  },
  {
   "cell_type": "markdown",
   "metadata": {
    "id": "yL-JlTk_rLz1"
   },
   "source": [
    "Diatas dapat terlihat hasil dimensi/shape data setelah drop/hapus missing values"
   ]
  },
  {
   "cell_type": "markdown",
   "metadata": {
    "id": "lyn0HT-qrLz2"
   },
   "source": [
    "**Melakukan pemeriksaan dan membersihkan data yang dinilai 'anomali' setiap kolom pada data train:**\n",
    "1. fare_amount\n",
    "2. passanger_count\n",
    "3. pickup_longitude\n",
    "4. pickup_latitude\n",
    "5. dropoff_longitude \n",
    "6. dropoff_latitude"
   ]
  },
  {
   "cell_type": "code",
   "execution_count": null,
   "metadata": {
    "_kg_hide-output": true,
    "_uuid": "6719a8e5d3dfb155d189e86f481e1ec36afadec7",
    "execution": {
     "iopub.execute_input": "2021-10-20T09:15:31.582137Z",
     "iopub.status.busy": "2021-10-20T09:15:31.581488Z",
     "iopub.status.idle": "2021-10-20T09:15:31.663710Z",
     "shell.execute_reply": "2021-10-20T09:15:31.662800Z",
     "shell.execute_reply.started": "2021-10-20T09:15:31.582055Z"
    },
    "id": "S8UocSWMrLz3"
   },
   "outputs": [],
   "source": [
    "# periksa kolom target yaitu kolom fare_amount\n",
    "train['fare_amount'].describe()"
   ]
  },
  {
   "cell_type": "markdown",
   "metadata": {
    "id": "jjUPs1XerLz4"
   },
   "source": [
    "data target adalah fitur dari dataset yang ingin Anda pahami lebih dalam.\n",
    "**Dari output diatas**, kolom target Fare amount/jumlah tarif memiliki nilai negatif, yang tidak masuk akal. Dan kita Hapus kolom ini."
   ]
  },
  {
   "cell_type": "code",
   "execution_count": null,
   "metadata": {
    "_uuid": "f4c6018d2bef8ad5c8c4ce80811f601da66083e2",
    "execution": {
     "iopub.execute_input": "2021-10-20T09:15:37.610967Z",
     "iopub.status.busy": "2021-10-20T09:15:37.610354Z",
     "iopub.status.idle": "2021-10-20T09:15:37.690746Z",
     "shell.execute_reply": "2021-10-20T09:15:37.689895Z",
     "shell.execute_reply.started": "2021-10-20T09:15:37.610899Z"
    },
    "id": "OzKqORZmrLz4"
   },
   "outputs": [],
   "source": [
    "# Seleksi nilai negatif tsb, dan menghasilkan 38 kolom fare_amount memiliki nilai negatif \n",
    "from collections import Counter\n",
    "Counter(train['fare_amount']<0)"
   ]
  },
  {
   "cell_type": "code",
   "execution_count": null,
   "metadata": {
    "_uuid": "bd531f39d88ebdf5aaee0068e01a70d752999096",
    "execution": {
     "iopub.execute_input": "2021-10-20T09:15:42.756863Z",
     "iopub.status.busy": "2021-10-20T09:15:42.756567Z",
     "iopub.status.idle": "2021-10-20T09:15:42.943714Z",
     "shell.execute_reply": "2021-10-20T09:15:42.943011Z",
     "shell.execute_reply.started": "2021-10-20T09:15:42.756804Z"
    },
    "id": "ydq-eGI4rLz5"
   },
   "outputs": [],
   "source": [
    "# Hapus nilai negatif kemudian cek dimensi data dengan fungsi .shape\n",
    "train = train.drop(train[train['fare_amount']<0].index, axis=0)\n",
    "train.shape"
   ]
  },
  {
   "cell_type": "code",
   "execution_count": null,
   "metadata": {
    "_kg_hide-output": true,
    "_uuid": "397b9b61bd27e5d05f937de092140df0e765b9b5",
    "execution": {
     "iopub.execute_input": "2021-10-20T09:15:46.926609Z",
     "iopub.status.busy": "2021-10-20T09:15:46.926143Z",
     "iopub.status.idle": "2021-10-20T09:15:47.004816Z",
     "shell.execute_reply": "2021-10-20T09:15:47.003989Z",
     "shell.execute_reply.started": "2021-10-20T09:15:46.926409Z"
    },
    "id": "ZolXFzNdrLz6"
   },
   "outputs": [],
   "source": [
    "# dan terlihat pada output tidak ada lagi nilai negatif pada kolom fare_amount\n",
    "train['fare_amount'].describe()"
   ]
  },
  {
   "cell_type": "code",
   "execution_count": null,
   "metadata": {
    "_kg_hide-output": true,
    "_uuid": "4cf0dafef4aaf80c13721a3404ad3dbc759cd65e",
    "execution": {
     "iopub.execute_input": "2021-10-20T09:16:27.982967Z",
     "iopub.status.busy": "2021-10-20T09:16:27.982618Z",
     "iopub.status.idle": "2021-10-20T09:16:28.122102Z",
     "shell.execute_reply": "2021-10-20T09:16:28.121377Z",
     "shell.execute_reply.started": "2021-10-20T09:16:27.982899Z"
    },
    "id": "eLQZ-0oBrLz6"
   },
   "outputs": [],
   "source": [
    "# terlihat pada output jumlah tarif tertiggi adalah $500\n",
    "train['fare_amount'].sort_values(ascending=False)"
   ]
  },
  {
   "cell_type": "markdown",
   "metadata": {
    "_uuid": "94bba1478130e361a935fc2eae552f3fdb5cfae9",
    "id": "THNEtIl6rLz7"
   },
   "source": [
    "**Selanjutnya periksa kolom passenger_count**"
   ]
  },
  {
   "cell_type": "code",
   "execution_count": null,
   "metadata": {
    "_kg_hide-output": true,
    "_uuid": "35df6fbd1aab70134962dd4bb58edda7e29fca61",
    "execution": {
     "iopub.execute_input": "2021-10-20T09:23:24.749489Z",
     "iopub.status.busy": "2021-10-20T09:23:24.749166Z",
     "iopub.status.idle": "2021-10-20T09:23:24.818479Z",
     "shell.execute_reply": "2021-10-20T09:23:24.817723Z",
     "shell.execute_reply.started": "2021-10-20T09:23:24.749452Z"
    },
    "id": "c8ELXwOIrLz7"
   },
   "outputs": [],
   "source": [
    "train['passenger_count'].describe()"
   ]
  },
  {
   "cell_type": "code",
   "execution_count": null,
   "metadata": {
    "_uuid": "12f7f4f99a082c3d08bf100d9dad8e7395d5e420",
    "execution": {
     "iopub.execute_input": "2021-10-20T09:26:21.887987Z",
     "iopub.status.busy": "2021-10-20T09:26:21.887723Z",
     "iopub.status.idle": "2021-10-20T09:26:21.914262Z",
     "shell.execute_reply": "2021-10-20T09:26:21.913707Z",
     "shell.execute_reply.started": "2021-10-20T09:26:21.887954Z"
    },
    "id": "3vTfpYKnrLz8"
   },
   "outputs": [],
   "source": [
    "# Misal asumsi, menurut aturan batas maksimum penumpang dalam sebuah taksi adalah 6\n",
    "# ini PASTI outlier. Mari kita drop/hapus\n",
    "train[train['passenger_count']>6]"
   ]
  },
  {
   "cell_type": "code",
   "execution_count": null,
   "metadata": {
    "_kg_hide-output": true,
    "_uuid": "39bc70eb463712ecf9313e98d858bd979c7b2074",
    "execution": {
     "iopub.execute_input": "2021-10-20T09:27:41.201748Z",
     "iopub.status.busy": "2021-10-20T09:27:41.201462Z",
     "iopub.status.idle": "2021-10-20T09:27:41.277345Z",
     "shell.execute_reply": "2021-10-20T09:27:41.276421Z",
     "shell.execute_reply.started": "2021-10-20T09:27:41.201705Z"
    },
    "id": "GqkczgNRrLz8"
   },
   "outputs": [],
   "source": [
    "# jauh lebih rapi sekarang! Jumlah penumpang maksimal adalah 6.\n",
    "train['passenger_count'].describe()"
   ]
  },
  {
   "cell_type": "markdown",
   "metadata": {
    "id": "CfzDIuY7rLz9"
   },
   "source": [
    "**Selanjutnya periksa kolom pickup_latitude dan pickup_longitudes**"
   ]
  },
  {
   "cell_type": "code",
   "execution_count": null,
   "metadata": {
    "_kg_hide-output": true,
    "_uuid": "539a66d6677957e3b1c3e77f5db77f4e9b3f419b",
    "execution": {
     "iopub.execute_input": "2021-10-20T09:28:45.589828Z",
     "iopub.status.busy": "2021-10-20T09:28:45.589492Z",
     "iopub.status.idle": "2021-10-20T09:28:45.668028Z",
     "shell.execute_reply": "2021-10-20T09:28:45.667102Z",
     "shell.execute_reply.started": "2021-10-20T09:28:45.589766Z"
    },
    "id": "Q8MKAoeorLz9"
   },
   "outputs": [],
   "source": [
    "# mari kita eksplore kolom pickup latitude dan longitudes\n",
    "train['pickup_latitude'].describe()"
   ]
  },
  {
   "cell_type": "markdown",
   "metadata": {
    "_uuid": "e806a4db779a817cff657b5434d2103977efcb8a",
    "id": "tLOerpVGrLz9"
   },
   "source": [
    "* Garis lintang berkisar dari -90 hingga 90.\n",
    "* Garis bujur berkisar dari -180 hingga 180.\n",
    "\n",
    "Uraian di atas dengan jelas menunjukkan beberapa outlier. Mari kita saring mereka"
   ]
  },
  {
   "cell_type": "code",
   "execution_count": null,
   "metadata": {
    "_uuid": "7245a4b3488926be31d785bc05e20c2587f50d39",
    "execution": {
     "iopub.execute_input": "2021-10-20T09:30:50.046500Z",
     "iopub.status.busy": "2021-10-20T09:30:50.046157Z",
     "iopub.status.idle": "2021-10-20T09:30:50.071930Z",
     "shell.execute_reply": "2021-10-20T09:30:50.071025Z",
     "shell.execute_reply.started": "2021-10-20T09:30:50.046453Z"
    },
    "id": "4C4bqRp0rLz-"
   },
   "outputs": [],
   "source": [
    "train[train['pickup_latitude']<-90]"
   ]
  },
  {
   "cell_type": "code",
   "execution_count": null,
   "metadata": {
    "_uuid": "8079237f624f389253f36386ef5dc65cd25f97e4",
    "execution": {
     "iopub.execute_input": "2021-10-20T09:30:59.471108Z",
     "iopub.status.busy": "2021-10-20T09:30:59.470825Z",
     "iopub.status.idle": "2021-10-20T09:30:59.497419Z",
     "shell.execute_reply": "2021-10-20T09:30:59.496694Z",
     "shell.execute_reply.started": "2021-10-20T09:30:59.471065Z"
    },
    "id": "c3BpPtPhrLz-"
   },
   "outputs": [],
   "source": [
    "train[train['pickup_latitude']>90]"
   ]
  },
  {
   "cell_type": "code",
   "execution_count": null,
   "metadata": {
    "_kg_hide-output": true,
    "_uuid": "90fbfd284e8816cea4e27858d979abdc205bfd9d",
    "execution": {
     "iopub.execute_input": "2021-10-20T09:31:22.904525Z",
     "iopub.status.busy": "2021-10-20T09:31:22.904162Z",
     "iopub.status.idle": "2021-10-20T09:31:23.194500Z",
     "shell.execute_reply": "2021-10-20T09:31:23.193465Z",
     "shell.execute_reply.started": "2021-10-20T09:31:22.904460Z"
    },
    "id": "-IwN97HQrLz_"
   },
   "outputs": [],
   "source": [
    "# lalu kita hapus data outliers tsb\n",
    "train = train.drop((train[train['pickup_latitude']<-90]).index|(train[train['pickup_latitude']>90]).index, axis = 0)"
   ]
  },
  {
   "cell_type": "code",
   "execution_count": null,
   "metadata": {
    "_kg_hide-output": true,
    "_uuid": "b59f14fdc9955b0637893697b1377d7a3ff40113",
    "execution": {
     "iopub.execute_input": "2021-10-20T09:31:43.073532Z",
     "iopub.status.busy": "2021-10-20T09:31:43.073184Z",
     "iopub.status.idle": "2021-10-20T09:31:43.079467Z",
     "shell.execute_reply": "2021-10-20T09:31:43.078754Z",
     "shell.execute_reply.started": "2021-10-20T09:31:43.073468Z"
    },
    "id": "7JIAPA-hrLz_"
   },
   "outputs": [],
   "source": [
    "#12 baris terhapus\n",
    "train.shape"
   ]
  },
  {
   "cell_type": "code",
   "execution_count": null,
   "metadata": {
    "_kg_hide-output": true,
    "_uuid": "fda34b448ce42ab20f1f4a27f816bcc1f1500785",
    "execution": {
     "iopub.execute_input": "2021-10-20T09:32:30.701097Z",
     "iopub.status.busy": "2021-10-20T09:32:30.700804Z",
     "iopub.status.idle": "2021-10-20T09:32:30.779525Z",
     "shell.execute_reply": "2021-10-20T09:32:30.778717Z",
     "shell.execute_reply.started": "2021-10-20T09:32:30.701045Z"
    },
    "id": "864lg1JyrLz_"
   },
   "outputs": [],
   "source": [
    "# lakukan operasi yang sama untuk kolom pickup longitude\n",
    "train['pickup_longitude'].describe()"
   ]
  },
  {
   "cell_type": "code",
   "execution_count": null,
   "metadata": {
    "_kg_hide-output": true,
    "_uuid": "03909e003059735d43c4d6e3408cd5911663909d",
    "execution": {
     "iopub.execute_input": "2021-10-20T09:32:38.365799Z",
     "iopub.status.busy": "2021-10-20T09:32:38.365344Z",
     "iopub.status.idle": "2021-10-20T09:32:38.396032Z",
     "shell.execute_reply": "2021-10-20T09:32:38.395371Z",
     "shell.execute_reply.started": "2021-10-20T09:32:38.365754Z"
    },
    "id": "RnMYAiZ7rL0A"
   },
   "outputs": [],
   "source": [
    "# cek data yang bernilai lebih dari -180\n",
    "train[train['pickup_longitude']<-180]"
   ]
  },
  {
   "cell_type": "code",
   "execution_count": null,
   "metadata": {
    "_kg_hide-output": true,
    "_uuid": "77a4b7bbfc31770b9614968f7abbd16b055d9e37",
    "execution": {
     "iopub.execute_input": "2021-10-20T09:32:56.392794Z",
     "iopub.status.busy": "2021-10-20T09:32:56.392497Z",
     "iopub.status.idle": "2021-10-20T09:32:56.405107Z",
     "shell.execute_reply": "2021-10-20T09:32:56.404234Z",
     "shell.execute_reply.started": "2021-10-20T09:32:56.392750Z"
    },
    "id": "W_0dkaBwrL0A"
   },
   "outputs": [],
   "source": [
    "# cek data yang bernilai lebih dari 180\n",
    "train[train['pickup_longitude']>180]"
   ]
  },
  {
   "cell_type": "code",
   "execution_count": null,
   "metadata": {
    "id": "Z7paKMpNrL0B"
   },
   "outputs": [],
   "source": [
    "train = train.drop(train[train['pickup_longitude']<-180].index, axis = 0)"
   ]
  },
  {
   "cell_type": "markdown",
   "metadata": {
    "id": "15p8vlH4rL0B"
   },
   "source": [
    "**Selanjutnya periksa kolom dropoff_latitude dan dropoff_longitudes**"
   ]
  },
  {
   "cell_type": "code",
   "execution_count": null,
   "metadata": {
    "_kg_hide-output": true,
    "_uuid": "442d8e81127ea65a1c6c7da62a29ab02e1a3ee1d",
    "execution": {
     "iopub.execute_input": "2021-10-20T09:34:41.864931Z",
     "iopub.status.busy": "2021-10-20T09:34:41.864454Z",
     "iopub.status.idle": "2021-10-20T09:34:41.891619Z",
     "shell.execute_reply": "2021-10-20T09:34:41.890628Z",
     "shell.execute_reply.started": "2021-10-20T09:34:41.864717Z"
    },
    "id": "vNYULSHHrL0C"
   },
   "outputs": [],
   "source": [
    "#lakukan operasi yang sama untuk kolom dropoff latitude and longitude\n",
    "# cek data yang bernilai lebih dari -90\n",
    "train[train['dropoff_latitude']<-90]"
   ]
  },
  {
   "cell_type": "code",
   "execution_count": null,
   "metadata": {
    "_kg_hide-output": true,
    "_uuid": "c9dfc75fa94351b40796abb43a9bee5f3891e246",
    "execution": {
     "iopub.execute_input": "2021-10-20T09:34:48.295893Z",
     "iopub.status.busy": "2021-10-20T09:34:48.295331Z",
     "iopub.status.idle": "2021-10-20T09:34:48.322137Z",
     "shell.execute_reply": "2021-10-20T09:34:48.321569Z",
     "shell.execute_reply.started": "2021-10-20T09:34:48.295846Z"
    },
    "id": "LEa4VQ_6rL0D"
   },
   "outputs": [],
   "source": [
    "# cek data yang bernilai lebih dari 90\n",
    "train[train['dropoff_latitude']>90]"
   ]
  },
  {
   "cell_type": "code",
   "execution_count": null,
   "metadata": {
    "_uuid": "64612fe9653b0c692e9f9a948ac9d5b00fc5a315",
    "execution": {
     "iopub.execute_input": "2021-10-20T09:34:54.940074Z",
     "iopub.status.busy": "2021-10-20T09:34:54.939473Z",
     "iopub.status.idle": "2021-10-20T09:34:55.114532Z",
     "shell.execute_reply": "2021-10-20T09:34:55.113846Z",
     "shell.execute_reply.started": "2021-10-20T09:34:54.940005Z"
    },
    "id": "Z_9nhrsfrL0E"
   },
   "outputs": [],
   "source": [
    "# hapus data/outliers tsb \n",
    "train = train.drop(train[train['dropoff_latitude']>90].index, axis=0)"
   ]
  },
  {
   "cell_type": "code",
   "execution_count": null,
   "metadata": {
    "_uuid": "4c424b2380714d9549d4483884d977a76ab02b35",
    "execution": {
     "iopub.execute_input": "2021-10-20T09:35:04.486920Z",
     "iopub.status.busy": "2021-10-20T09:35:04.486357Z",
     "iopub.status.idle": "2021-10-20T09:35:04.492896Z",
     "shell.execute_reply": "2021-10-20T09:35:04.492115Z",
     "shell.execute_reply.started": "2021-10-20T09:35:04.486854Z"
    },
    "id": "c-12Z_7PrL0E"
   },
   "outputs": [],
   "source": [
    "#8 kolom terhapus\n",
    "train.shape"
   ]
  },
  {
   "cell_type": "markdown",
   "metadata": {
    "_uuid": "d3d025ae4622a6954436b15ef933b505b0b1a18d",
    "id": "aymhCLbZrL0F"
   },
   "source": [
    "**Periksa tipe data setiap kolom data train**"
   ]
  },
  {
   "cell_type": "code",
   "execution_count": null,
   "metadata": {
    "_kg_hide-output": true,
    "_uuid": "5ba1db209e2253c7c22db60634241c175dff6b21",
    "execution": {
     "iopub.execute_input": "2021-10-20T09:46:17.746593Z",
     "iopub.status.busy": "2021-10-20T09:46:17.746261Z",
     "iopub.status.idle": "2021-10-20T09:46:17.753993Z",
     "shell.execute_reply": "2021-10-20T09:46:17.753076Z",
     "shell.execute_reply.started": "2021-10-20T09:46:17.746508Z"
    },
    "id": "VppFH3T2rL0F"
   },
   "outputs": [],
   "source": [
    "train.dtypes"
   ]
  },
  {
   "cell_type": "markdown",
   "metadata": {
    "_uuid": "f89b184f3cbbeb867a098e270ec089a36b8ee771",
    "id": "Aj4oAma6rL0F"
   },
   "source": [
    "key and pickup_datetime tampaknya menjadi kolom datetime yang dalam format objek. Mari kita ubah menjadi datetime:"
   ]
  },
  {
   "cell_type": "code",
   "execution_count": null,
   "metadata": {
    "id": "7UB4JhWArL0G"
   },
   "outputs": [],
   "source": [
    "train['key'] = pd.to_datetime(train['key'])\n",
    "train['pickup_datetime']  = pd.to_datetime(train['pickup_datetime'])"
   ]
  },
  {
   "cell_type": "code",
   "execution_count": null,
   "metadata": {
    "_kg_hide-output": true,
    "_uuid": "31e56c5a630e56e4677843e4af5993f9fbb2194d",
    "execution": {
     "iopub.execute_input": "2021-10-20T09:53:02.272395Z",
     "iopub.status.busy": "2021-10-20T09:53:02.271906Z",
     "iopub.status.idle": "2021-10-20T09:53:02.280599Z",
     "shell.execute_reply": "2021-10-20T09:53:02.279666Z",
     "shell.execute_reply.started": "2021-10-20T09:53:02.272175Z"
    },
    "id": "VTgdRbG-rL0G"
   },
   "outputs": [],
   "source": [
    "#cek tipe data tsb setelah di konversi\n",
    "train.dtypes"
   ]
  },
  {
   "cell_type": "code",
   "execution_count": null,
   "metadata": {
    "_kg_hide-output": true,
    "_uuid": "d8d14f0ae02f77f01907dbe5cc0d297091414b43",
    "execution": {
     "iopub.execute_input": "2021-10-20T09:53:50.301684Z",
     "iopub.status.busy": "2021-10-20T09:53:50.301110Z",
     "iopub.status.idle": "2021-10-20T09:53:50.335331Z",
     "shell.execute_reply": "2021-10-20T09:53:50.334429Z",
     "shell.execute_reply.started": "2021-10-20T09:53:50.301626Z"
    },
    "id": "Egx6nv2TrL0G"
   },
   "outputs": [],
   "source": [
    "#cek data train setelah di cleansing\n",
    "train.head()"
   ]
  },
  {
   "cell_type": "markdown",
   "metadata": {
    "id": "Rr3GEa2frL0H"
   },
   "source": [
    "**Data sudah selesai di cleansing, dan selanjutnya siap untuk di masukkan kedalam model machine learning :)**"
   ]
  },
  {
   "cell_type": "markdown",
   "metadata": {
    "_uuid": "b1eeb9d0345aa40e7f56abecf9d31160c5d54e6c",
    "id": "ext9hEaLrL0H"
   },
   "source": [
    "## BAGIAN 2 : TRANSFORMASI DATA DENGAN TIPE KATEGORI**\n",
    "\n",
    "Pada bagian ini, Anda akan mempraktikan cara untuk :\n",
    "* Melakukan transformasi terhadap data yang bersifat kategori "
   ]
  },
  {
   "cell_type": "markdown",
   "metadata": {
    "id": "xGgw9Y3JrL0I"
   },
   "source": [
    "### Dataset 2\n",
    "\n",
    "Dataset yang akan Anda gunakan pada bagian ini adalah data sensus penduduk. Dataset ini memiliki jumlah sebanyak 48842 data dengan 15 fitur. "
   ]
  },
  {
   "cell_type": "code",
   "execution_count": null,
   "metadata": {
    "id": "Q_GSHsMGrL0I"
   },
   "outputs": [],
   "source": [
    "from sklearn.preprocessing import OrdinalEncoder\n",
    "import matplotlib.pyplot as plt\n",
    "%matplotlib inline\n",
    "from scipy.stats import ttest_ind, ttest_rel\n",
    "from scipy import stats"
   ]
  },
  {
   "cell_type": "code",
   "execution_count": null,
   "metadata": {
    "id": "MG5Hz7RprL0J"
   },
   "outputs": [],
   "source": [
    "data = pd.read_csv(\"https://gitlab.com/andreass.bayu/file-directory/-/raw/main/adult.csv\", na_values=\"?\" )\n",
    "print('Number of rows: '+ format(data.shape[0]) +', number of features: '+ format(data.shape[1]))"
   ]
  },
  {
   "cell_type": "code",
   "execution_count": null,
   "metadata": {
    "id": "drgWwxY2rL0K"
   },
   "outputs": [],
   "source": [
    "data.head(10)"
   ]
  },
  {
   "cell_type": "code",
   "execution_count": null,
   "metadata": {
    "id": "50AR0FxzrL0K"
   },
   "outputs": [],
   "source": [
    "## mengecek apakah terdapat nilai NA pada dataset\n",
    "\n",
    "C = (data.dtypes == 'object')\n",
    "CategoricalVariables = list(C[C].index)\n",
    "\n",
    "Integer = (data.dtypes == 'int64') \n",
    "Float   = (data.dtypes == 'float64') \n",
    "NumericVariables = list(Integer[Integer].index) + list(Float[Float].index)\n",
    "\n",
    "Missing_Percentage = (data.isnull().sum()).sum()/np.product(data.shape)*100\n",
    "print(\"The number of missing entries before cleaning: \" + str(round(Missing_Percentage,5)) + \" %\")"
   ]
  },
  {
   "cell_type": "code",
   "execution_count": null,
   "metadata": {
    "id": "6SL8TKworL0L"
   },
   "outputs": [],
   "source": [
    "## menampilkan seluruh list fitur yang ada\n",
    "list(data.columns)"
   ]
  },
  {
   "cell_type": "code",
   "execution_count": null,
   "metadata": {
    "id": "rtPaMB-4rL0L"
   },
   "outputs": [],
   "source": [
    "data.dtypes"
   ]
  },
  {
   "cell_type": "code",
   "execution_count": null,
   "metadata": {
    "id": "VZ3TGiSorL0M"
   },
   "outputs": [],
   "source": [
    "data.education.unique()"
   ]
  },
  {
   "cell_type": "code",
   "execution_count": null,
   "metadata": {
    "id": "XzCp1KuprL0N"
   },
   "outputs": [],
   "source": [
    "data.native-country.unique()"
   ]
  },
  {
   "cell_type": "code",
   "execution_count": null,
   "metadata": {
    "id": "lUUyZt37rL0O"
   },
   "outputs": [],
   "source": [
    "##melakukan proses rename kolom\n",
    "dataRename = data.rename(columns={'marital-status': 'maritalStatus'})"
   ]
  },
  {
   "cell_type": "code",
   "execution_count": null,
   "metadata": {
    "id": "IDpsUJtFrL0O"
   },
   "outputs": [],
   "source": [
    "dataRename.head(5)"
   ]
  },
  {
   "cell_type": "code",
   "execution_count": null,
   "metadata": {
    "id": "nF6ewRYzrL0O"
   },
   "outputs": [],
   "source": [
    "## Kode untuk melakukan transformasi untuk kolom marital_status dengan fungsi maping\n",
    "\n",
    "maritalStatus_map  = {'Never-married':0,'Married-civ-spouse':1,'Widowed':2, 'Divorced':3,'Separated':4,'Married-spouse-absent':5,'Married-AF-spouse':6}\n",
    "\n",
    "dataRename['maritalStatus'] = dataRename['maritalStatus'].map(maritalStatus_map)\n",
    "dataRename.head()"
   ]
  },
  {
   "cell_type": "code",
   "execution_count": null,
   "metadata": {
    "id": "AKW1o7VprL0P"
   },
   "outputs": [],
   "source": [
    "## Kode untuk melakukan transformasi untuk kolom marital_status dengan fungsi cat.codes\n",
    "dataRename[\"race\"] = dataRename[\"race\"].astype('category')\n",
    "dataRename[\"race_encoded\"] = dataRename[\"race\"].cat.codes\n",
    "dataRename.head()"
   ]
  },
  {
   "cell_type": "code",
   "execution_count": null,
   "metadata": {
    "id": "6BgDQ5T6rL0P"
   },
   "outputs": [],
   "source": [
    "## Kode untuk melakukan transformasi untuk kolom marital_status dengan fungsi Ordinal Encoder dari library sklearn\n",
    "ord_enc = OrdinalEncoder()\n",
    "dataRename[\"gender\"] = ord_enc.fit_transform(dataRename[[\"gender\"]])\n",
    "dataRename[[\"gender\", \"gender\"]].head(10)"
   ]
  },
  {
   "cell_type": "code",
   "execution_count": null,
   "metadata": {
    "id": "d4CPZMsErL0P"
   },
   "outputs": [],
   "source": [
    "dataRename['maritalStatus'].hist(figsize=(8,8))\n",
    "plt.show()"
   ]
  },
  {
   "cell_type": "code",
   "execution_count": null,
   "metadata": {
    "id": "bM30ZRB0rL0Q"
   },
   "outputs": [],
   "source": [
    "dataRename = dataRename.rename(columns={'capital-gain': 'capitalGain'})\n",
    "dataRename['capitalGain'].describe()"
   ]
  },
  {
   "cell_type": "code",
   "execution_count": null,
   "metadata": {
    "id": "guYKuw26rL0Q"
   },
   "outputs": [],
   "source": [
    "dataRename.head(5)"
   ]
  },
  {
   "cell_type": "code",
   "execution_count": null,
   "metadata": {
    "id": "mMIRgFkqrL0R"
   },
   "outputs": [],
   "source": [
    "dataRename.race.unique()"
   ]
  },
  {
   "cell_type": "code",
   "execution_count": null,
   "metadata": {
    "id": "hClpEuMkrL0R"
   },
   "outputs": [],
   "source": [
    "race1 = dataRename[dataRename[\"race_encoded\"] == 1]\n",
    "race2 = dataRename[dataRename[\"race_encoded\"] == 2]\n",
    "race3 = dataRename[dataRename[\"race_encoded\"] == 3]\n",
    "race4 = dataRename[dataRename[\"race_encoded\"] == 4]\n",
    "race5 = dataRename[dataRename[\"race_encoded\"] == 5]"
   ]
  },
  {
   "cell_type": "code",
   "execution_count": null,
   "metadata": {
    "id": "aVbNdfwVrL0R"
   },
   "outputs": [],
   "source": [
    "race2.dtypes"
   ]
  },
  {
   "cell_type": "code",
   "execution_count": null,
   "metadata": {
    "id": "irooP45FrL0S"
   },
   "outputs": [],
   "source": [
    "race1.head(10)"
   ]
  },
  {
   "cell_type": "code",
   "execution_count": null,
   "metadata": {
    "id": "CQ9v73h6rL0S"
   },
   "outputs": [],
   "source": [
    "plt.figure(figsize=(7,7))\n",
    "total = float(len(race4) )\n",
    "\n",
    "ax = sns.countplot(x=\"income\", data=race4[race4[\"age\"]>70])\n",
    "for p in ax.patches:\n",
    "    height = p.get_height()\n",
    "    ax.text(p.get_x()+p.get_width()/2.,\n",
    "            height + 3,\n",
    "            '{:1.2f}'.format((height/total)*100),\n",
    "            ha=\"center\") \n",
    "plt.show()"
   ]
  },
  {
   "cell_type": "code",
   "execution_count": null,
   "metadata": {
    "id": "1vNsvNUXrL0S"
   },
   "outputs": [],
   "source": [
    "fig = plt.figure(figsize=(10,10)) \n",
    "sns.boxplot(x=\"income\", y=\"age\", data=race3)\n",
    "plt.show()"
   ]
  },
  {
   "cell_type": "markdown",
   "metadata": {
    "id": "db0imtqwrL0T"
   },
   "source": [
    "### Instruksi Praktikum untuk mahasiswa FIKTI dan FTI (kecuali Teknik Industri, Teknik Mesin dan Agroteknologi)\n",
    "\n",
    "* Lakukan teknik data cleaning untuk data yang bernilai NaN pada Dataset 2. \n",
    "* Lakukan analisis histogram kolom income pada setiap kategori race, apakah yang dapat Anda simpulkan ?\n",
    "* Ganti kolom hours-per-week dengan nama hoursPerWeek\n",
    "* Berapa jumlah responden yang bekerja lebih dari 40 jam per minggunya untuk masing-masing kategori race?  "
   ]
  },
  {
   "cell_type": "markdown",
   "metadata": {
    "id": "d6foAPlorL0T"
   },
   "source": [
    "### Instruksi Praktikum mahasiswa Teknik Industri, Teknik Mesin, Agroteknologi, FTSP & FIKES\n",
    "\n",
    "* Ganti kolom hours-per-week dengan nama hoursPerWeek\n",
    "* Lakukan analisis histogram pada kolom hoursPerWeek pada setiap data race1, race2, race3, race4 dan race5. Informasi apa yang dapat Anda simpulkan ?\n",
    "* Terdapat berapa kategori data yang mengisi kolom workclass? Apa saja kategori yang ada?\n",
    "* Jelaskan hasil boxplot yang diperoleh untuk data income dan umur untuk data race1 !"
   ]
  }
 ],
 "metadata": {
  "colab": {
   "collapsed_sections": [
    "db0imtqwrL0T",
    "d6foAPlorL0T"
   ],
   "name": "praktikum-week-5.ipynb",
   "provenance": []
  },
  "kernelspec": {
   "display_name": "Python 3 (ipykernel)",
   "language": "python",
   "name": "python3"
  },
  "language_info": {
   "codemirror_mode": {
    "name": "ipython",
    "version": 3
   },
   "file_extension": ".py",
   "mimetype": "text/x-python",
   "name": "python",
   "nbconvert_exporter": "python",
   "pygments_lexer": "ipython3",
   "version": "3.10.2"
  }
 },
 "nbformat": 4,
 "nbformat_minor": 1
}
