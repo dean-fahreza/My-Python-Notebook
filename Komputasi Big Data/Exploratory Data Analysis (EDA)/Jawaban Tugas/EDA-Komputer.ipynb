{
 "cells": [
  {
   "cell_type": "markdown",
   "id": "92c82c8c",
   "metadata": {},
   "source": [
    "## Nama : Muhammad Dean Fahreza\n",
    "## NPM : 50420812\n",
    "## Kelas : 2IA09"
   ]
  },
  {
   "cell_type": "code",
   "execution_count": 1,
   "id": "a35272f2",
   "metadata": {},
   "outputs": [],
   "source": [
    "# menngimport packages\n",
    "import numpy as np \n",
    "import pandas as pd \n",
    "import seaborn as sns\n",
    "import matplotlib.pyplot as plt\n",
    "%matplotlib inline\n",
    "import warnings\n",
    "warnings.filterwarnings(\"ignore\")\n",
    "from scipy.stats import ttest_ind, ttest_rel\n",
    "from scipy import stats"
   ]
  },
  {
   "cell_type": "code",
   "execution_count": 2,
   "id": "c8faf3f1",
   "metadata": {},
   "outputs": [
    {
     "data": {
      "text/html": [
       "<div>\n",
       "<style scoped>\n",
       "    .dataframe tbody tr th:only-of-type {\n",
       "        vertical-align: middle;\n",
       "    }\n",
       "\n",
       "    .dataframe tbody tr th {\n",
       "        vertical-align: top;\n",
       "    }\n",
       "\n",
       "    .dataframe thead th {\n",
       "        text-align: right;\n",
       "    }\n",
       "</style>\n",
       "<table border=\"1\" class=\"dataframe\">\n",
       "  <thead>\n",
       "    <tr style=\"text-align: right;\">\n",
       "      <th></th>\n",
       "      <th>age</th>\n",
       "      <th>workclass</th>\n",
       "      <th>fnlwgt</th>\n",
       "      <th>education</th>\n",
       "      <th>educational-num</th>\n",
       "      <th>marital-status</th>\n",
       "      <th>occupation</th>\n",
       "      <th>relationship</th>\n",
       "      <th>race</th>\n",
       "      <th>gender</th>\n",
       "      <th>capital-gain</th>\n",
       "      <th>capital-loss</th>\n",
       "      <th>hours-per-week</th>\n",
       "      <th>native-country</th>\n",
       "      <th>income</th>\n",
       "    </tr>\n",
       "  </thead>\n",
       "  <tbody>\n",
       "    <tr>\n",
       "      <th>0</th>\n",
       "      <td>25</td>\n",
       "      <td>Private</td>\n",
       "      <td>226802</td>\n",
       "      <td>11th</td>\n",
       "      <td>7</td>\n",
       "      <td>Never-married</td>\n",
       "      <td>Machine-op-inspct</td>\n",
       "      <td>Own-child</td>\n",
       "      <td>Black</td>\n",
       "      <td>Male</td>\n",
       "      <td>0</td>\n",
       "      <td>0</td>\n",
       "      <td>40</td>\n",
       "      <td>United-States</td>\n",
       "      <td>&lt;=50K</td>\n",
       "    </tr>\n",
       "    <tr>\n",
       "      <th>1</th>\n",
       "      <td>38</td>\n",
       "      <td>Private</td>\n",
       "      <td>89814</td>\n",
       "      <td>HS-grad</td>\n",
       "      <td>9</td>\n",
       "      <td>Married-civ-spouse</td>\n",
       "      <td>Farming-fishing</td>\n",
       "      <td>Husband</td>\n",
       "      <td>White</td>\n",
       "      <td>Male</td>\n",
       "      <td>0</td>\n",
       "      <td>0</td>\n",
       "      <td>50</td>\n",
       "      <td>United-States</td>\n",
       "      <td>&lt;=50K</td>\n",
       "    </tr>\n",
       "    <tr>\n",
       "      <th>2</th>\n",
       "      <td>28</td>\n",
       "      <td>Local-gov</td>\n",
       "      <td>336951</td>\n",
       "      <td>Assoc-acdm</td>\n",
       "      <td>12</td>\n",
       "      <td>Married-civ-spouse</td>\n",
       "      <td>Protective-serv</td>\n",
       "      <td>Husband</td>\n",
       "      <td>White</td>\n",
       "      <td>Male</td>\n",
       "      <td>0</td>\n",
       "      <td>0</td>\n",
       "      <td>40</td>\n",
       "      <td>United-States</td>\n",
       "      <td>&gt;50K</td>\n",
       "    </tr>\n",
       "    <tr>\n",
       "      <th>3</th>\n",
       "      <td>44</td>\n",
       "      <td>Private</td>\n",
       "      <td>160323</td>\n",
       "      <td>Some-college</td>\n",
       "      <td>10</td>\n",
       "      <td>Married-civ-spouse</td>\n",
       "      <td>Machine-op-inspct</td>\n",
       "      <td>Husband</td>\n",
       "      <td>Black</td>\n",
       "      <td>Male</td>\n",
       "      <td>7688</td>\n",
       "      <td>0</td>\n",
       "      <td>40</td>\n",
       "      <td>United-States</td>\n",
       "      <td>&gt;50K</td>\n",
       "    </tr>\n",
       "    <tr>\n",
       "      <th>4</th>\n",
       "      <td>18</td>\n",
       "      <td>?</td>\n",
       "      <td>103497</td>\n",
       "      <td>Some-college</td>\n",
       "      <td>10</td>\n",
       "      <td>Never-married</td>\n",
       "      <td>?</td>\n",
       "      <td>Own-child</td>\n",
       "      <td>White</td>\n",
       "      <td>Female</td>\n",
       "      <td>0</td>\n",
       "      <td>0</td>\n",
       "      <td>30</td>\n",
       "      <td>United-States</td>\n",
       "      <td>&lt;=50K</td>\n",
       "    </tr>\n",
       "  </tbody>\n",
       "</table>\n",
       "</div>"
      ],
      "text/plain": [
       "   age  workclass  fnlwgt     education  educational-num      marital-status  \\\n",
       "0   25    Private  226802          11th                7       Never-married   \n",
       "1   38    Private   89814       HS-grad                9  Married-civ-spouse   \n",
       "2   28  Local-gov  336951    Assoc-acdm               12  Married-civ-spouse   \n",
       "3   44    Private  160323  Some-college               10  Married-civ-spouse   \n",
       "4   18          ?  103497  Some-college               10       Never-married   \n",
       "\n",
       "          occupation relationship   race  gender  capital-gain  capital-loss  \\\n",
       "0  Machine-op-inspct    Own-child  Black    Male             0             0   \n",
       "1    Farming-fishing      Husband  White    Male             0             0   \n",
       "2    Protective-serv      Husband  White    Male             0             0   \n",
       "3  Machine-op-inspct      Husband  Black    Male          7688             0   \n",
       "4                  ?    Own-child  White  Female             0             0   \n",
       "\n",
       "   hours-per-week native-country income  \n",
       "0              40  United-States  <=50K  \n",
       "1              50  United-States  <=50K  \n",
       "2              40  United-States   >50K  \n",
       "3              40  United-States   >50K  \n",
       "4              30  United-States  <=50K  "
      ]
     },
     "execution_count": 2,
     "metadata": {},
     "output_type": "execute_result"
    }
   ],
   "source": [
    "# mengimport data\n",
    "data = pd.read_csv(\"https://gitlab.com/andreass.bayu/file-directory/-/raw/main/adult.csv\")\n",
    "data.head(5)"
   ]
  },
  {
   "cell_type": "markdown",
   "id": "21f793ce",
   "metadata": {},
   "source": [
    "# Tugas"
   ]
  },
  {
   "cell_type": "markdown",
   "id": "ee75edd3",
   "metadata": {},
   "source": [
    "## 1. Univariate analysis"
   ]
  },
  {
   "cell_type": "markdown",
   "id": "d3cb4658",
   "metadata": {},
   "source": [
    "### 1.1 hours-per-week"
   ]
  },
  {
   "cell_type": "markdown",
   "id": "b3266dd0",
   "metadata": {},
   "source": [
    "#### i. DIstribusi"
   ]
  },
  {
   "cell_type": "code",
   "execution_count": 3,
   "id": "e9ff6d35",
   "metadata": {},
   "outputs": [
    {
     "data": {
      "image/png": "[encoded data removed]",
      "text/plain": [
       "<Figure size 576x576 with 1 Axes>"
      ]
     },
     "metadata": {
      "needs_background": "light"
     },
     "output_type": "display_data"
    }
   ],
   "source": [
    "# Buat diagram hours-per-week\n",
    "data['hours-per-week'].hist(figsize=(8,8))\n",
    "plt.show()"
   ]
  },
  {
   "cell_type": "code",
   "execution_count": 4,
   "id": "ddd6ee6f",
   "metadata": {},
   "outputs": [
    {
     "data": {
      "text/plain": [
       "(40991, 15)"
      ]
     },
     "execution_count": 4,
     "metadata": {},
     "output_type": "execute_result"
    }
   ],
   "source": [
    "data[data[\"hours-per-week\"]>30].shape"
   ]
  },
  {
   "cell_type": "markdown",
   "id": "18ce8afe",
   "metadata": {},
   "source": [
    "#### ii. Deskripsi"
   ]
  },
  {
   "cell_type": "markdown",
   "id": "4cd608a2",
   "metadata": {},
   "source": [
    "Histogram di atas menjelaskan bahwa\n",
    "\n",
    "- Attribut \"hours-per-week\" **simetris** dikarenakan bentuk kurva pada gambar di atas adalah _kurva lonceng_\n",
    "- Kurva tersebut seimbang, semakin ke kanan kurva nya naik, *tetapi* semakin ke kanan pula kurva nya cenderung menurun\n",
    "- Nilain \"hours-per-week\" tertinggi berada di 27000 jam/minggu _dan_ berada di usia 30 tahun\n",
    "- Dataset ini memiliki lebih sedikit pengamatan (40991) tentang usia orang setelah usia tertentu, yaitu 30 tahun"
   ]
  },
  {
   "cell_type": "markdown",
   "id": "06f329f0",
   "metadata": {},
   "source": [
    "# 2. Bivariate analysis"
   ]
  },
  {
   "cell_type": "markdown",
   "id": "e019a3f8",
   "metadata": {},
   "source": [
    "## 2.1 hours-per-week - income (Hubungan)"
   ]
  },
  {
   "cell_type": "code",
   "execution_count": 5,
   "id": "2b946bbe",
   "metadata": {},
   "outputs": [
    {
     "data": {
      "image/png": "[encoded data removed]",
      "text/plain": [
       "<Figure size 720x720 with 1 Axes>"
      ]
     },
     "metadata": {
      "needs_background": "light"
     },
     "output_type": "display_data"
    }
   ],
   "source": [
    "# Buat diagram, hubungan hours-per-week dengan income\n",
    "fig = plt.figure(figsize=(10,10)) \n",
    "sns.boxplot(x=\"income\", y=\"hours-per-week\", data=data)\n",
    "plt.show()"
   ]
  },
  {
   "cell_type": "code",
   "execution_count": 6,
   "id": "045b412b",
   "metadata": {},
   "outputs": [
    {
     "data": {
      "text/html": [
       "<div>\n",
       "<style scoped>\n",
       "    .dataframe tbody tr th:only-of-type {\n",
       "        vertical-align: middle;\n",
       "    }\n",
       "\n",
       "    .dataframe tbody tr th {\n",
       "        vertical-align: top;\n",
       "    }\n",
       "\n",
       "    .dataframe thead th {\n",
       "        text-align: right;\n",
       "    }\n",
       "</style>\n",
       "<table border=\"1\" class=\"dataframe\">\n",
       "  <thead>\n",
       "    <tr style=\"text-align: right;\">\n",
       "      <th></th>\n",
       "      <th>income</th>\n",
       "      <th>hours-per-week</th>\n",
       "    </tr>\n",
       "  </thead>\n",
       "  <tbody>\n",
       "    <tr>\n",
       "      <th>1</th>\n",
       "      <td>&gt;50K</td>\n",
       "      <td>45.452896</td>\n",
       "    </tr>\n",
       "    <tr>\n",
       "      <th>0</th>\n",
       "      <td>&lt;=50K</td>\n",
       "      <td>38.840048</td>\n",
       "    </tr>\n",
       "  </tbody>\n",
       "</table>\n",
       "</div>"
      ],
      "text/plain": [
       "  income  hours-per-week\n",
       "1   >50K       45.452896\n",
       "0  <=50K       38.840048"
      ]
     },
     "execution_count": 6,
     "metadata": {},
     "output_type": "execute_result"
    }
   ],
   "source": [
    " data[['i']]"
   ]
  },
  {
   "cell_type": "markdown",
   "id": "7fb7ebf9",
   "metadata": {},
   "source": [
    "#### ii. Deskripsi"
   ]
  },
  {
   "cell_type": "markdown",
   "id": "b4ff9a13",
   "metadata": {},
   "source": [
    "Bivariate Boxplot di atas menjelaskan bahwa :\n",
    "\n",
    "- Rata-rata \"kerja/jam\" untuk kelompok berpenghasilan `(<=50k)` adalah sekelompok orang yang berkerja 38.840048 jam/minggu\n",
    "- Rata-rata \"kerja/jam\" untuk kelompok berpenghasilan `(>50k)` adalah sekelompok orang yang berkerja 45.452896 "
   ]
  },
  {
   "cell_type": "markdown",
   "id": "4f69697b",
   "metadata": {},
   "source": [
    "#### iii. Uji Hipotesis (untuk menguji hubungan antara hours-per-week & Income )\n",
    "Dalam contoh ini kita dapat mengatakan bahwa:\n",
    "\n",
    "     Null Hypothesis :- tidak ada perbedaan Rerata kelompok pendapatan >50k dan kelompok pendapatan <=50k.\n",
    "     Alternate Hypothesis :- ada perbedaan Rerata kelompok pendapatan >50k dan kelompok pendapatan <=50k."
   ]
  },
  {
   "cell_type": "code",
   "execution_count": 7,
   "id": "b29c7c27",
   "metadata": {},
   "outputs": [],
   "source": [
    "# Buat uji hipotesis untuk menentukan null atau alternate hypothesis\n",
    "import random\n",
    "\n",
    "data = data[(np.abs(stats.zscore(data[\"hours-per-week\"])) < 3)] \n",
    "\n",
    "income_1 = data[data['income']=='<=50K']['hours-per-week']\n",
    "income_0 = data[data['income']=='>50K']['hours-per-week']\n",
    "\n",
    "income_0 = income_0.values.tolist()\n",
    "income_0 = random.sample(income_0, 100)\n",
    "income_1 = income_1.values.tolist()\n",
    "income_1 = random.sample(income_1, 100)"
   ]
  },
  {
   "cell_type": "code",
   "execution_count": 8,
   "id": "e07face7",
   "metadata": {},
   "outputs": [
    {
     "name": "stdout",
     "output_type": "stream",
     "text": [
      "ttest -5.360490707401451\n",
      "p value 2.4936746120304075e-07\n",
      "null hypothesis ditolak\n"
     ]
    }
   ],
   "source": [
    "from scipy.stats import ttest_ind\n",
    "ttest,pval = ttest_ind(income_1,income_0,equal_var = False)\n",
    "print(\"ttest\",ttest)\n",
    "print('p value',pval)\n",
    "\n",
    "\n",
    "if pval <0.05:\n",
    "    print(\"null hypothesis ditolak\")\n",
    "else:\n",
    "    print(\"null hypothesis diterima\")"
   ]
  },
  {
   "cell_type": "markdown",
   "id": "4ad6667f",
   "metadata": {},
   "source": [
    "#### iv. Kesimpulan akhir"
   ]
  },
  {
   "cell_type": "markdown",
   "id": "da8ea74a",
   "metadata": {},
   "source": [
    "Menggunakan analisis statistik,\n",
    "     \n",
    "     Dapat disimpulkan bahwa terdapat perbedaan signifikan antara rata-rata pekerja yang bekerja pada jam 45.452896 jam/minggu dan 38.840048 jam/minggu. Dalam penghasilan tertinggi, yakni penghasilan >50k diarih oleh pekerja dengan jam 45.452896 jam/minggu, sedangkan pekerja dengan jam kerja 38.840048 jam/minggu memiliki penghasilan sekitar <=50k. Dengan hal ini, amak memiliki pekerjaan dengan jam/m,inggu terbanyak lah yang mendapatkan pendapatan besar"
   ]
  }
 ],
 "metadata": {
  "kernelspec": {
   "display_name": "Python 3 (ipykernel)",
   "language": "python",
   "name": "python3"
  },
  "language_info": {
   "codemirror_mode": {
    "name": "ipython",
    "version": 3
   },
   "file_extension": ".py",
   "mimetype": "text/x-python",
   "name": "python",
   "nbconvert_exporter": "python",
   "pygments_lexer": "ipython3",
   "version": "3.10.2"
  }
 },
 "nbformat": 4,
 "nbformat_minor": 5
}
