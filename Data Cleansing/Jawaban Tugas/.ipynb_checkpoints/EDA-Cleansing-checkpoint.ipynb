{
 "cells": [
  {
   "cell_type": "markdown",
   "id": "2b96844f",
   "metadata": {},
   "source": [
    "## Nama : Muhammad Dean Fahreza\n",
    "## NPM : 50420812\n",
    "## Kelas : 2IA09"
   ]
  },
  {
   "cell_type": "markdown",
   "id": "dd0fe6da",
   "metadata": {},
   "source": [
    "# 1. Mengimport Library Python"
   ]
  },
  {
   "cell_type": "code",
   "execution_count": 2,
   "id": "91b5b155",
   "metadata": {},
   "outputs": [],
   "source": [
    "import numpy as np \n",
    "import pandas as pd \n",
    "import sklearn\n",
    "import seaborn as sns\n",
    "import matplotlib.pyplot as plt\n",
    "from sklearn.preprocessing import OrdinalEncoder\n",
    "import matplotlib.pyplot as plt\n",
    "%matplotlib inline\n",
    "from scipy.stats import ttest_ind, ttest_rel\n",
    "from scipy import stats"
   ]
  },
  {
   "cell_type": "code",
   "execution_count": null,
   "id": "c9e23c5d",
   "metadata": {},
   "outputs": [],
   "source": []
  }
 ],
 "metadata": {
  "kernelspec": {
   "display_name": "Python 3 (ipykernel)",
   "language": "python",
   "name": "python3"
  },
  "language_info": {
   "codemirror_mode": {
    "name": "ipython",
    "version": 3
   },
   "file_extension": ".py",
   "mimetype": "text/x-python",
   "name": "python",
   "nbconvert_exporter": "python",
   "pygments_lexer": "ipython3",
   "version": "3.10.2"
  }
 },
 "nbformat": 4,
 "nbformat_minor": 5
}
